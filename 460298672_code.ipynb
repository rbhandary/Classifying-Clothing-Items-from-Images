{
 "cells": [
  {
   "cell_type": "code",
   "execution_count": 200,
   "id": "sustained-shanghai",
   "metadata": {},
   "outputs": [
    {
     "name": "stdout",
     "output_type": "stream",
     "text": [
      "['images_training.h5', 'labels_training.h5']\n"
     ]
    }
   ],
   "source": [
    "import h5py\n",
    "import numpy as np\n",
    "import os\n",
    "import pandas as pd\n",
    "import matplotlib.pyplot as plt\n",
    "print(os.listdir(\"./Input/train\"))"
   ]
  },
  {
   "cell_type": "code",
   "execution_count": 201,
   "id": "optional-attraction",
   "metadata": {},
   "outputs": [
    {
     "name": "stdout",
     "output_type": "stream",
     "text": [
      "(30000, 784) (30000,)\n"
     ]
    }
   ],
   "source": [
    "with h5py.File('./Input/train/images_training.h5','r') as H:\n",
    "    data_train = np.copy(H['datatrain'])\n",
    "with h5py.File('./Input/train/labels_training.h5','r') as H:\n",
    "    label_train = np.copy(H['labeltrain'])\n",
    "\n",
    "# using H['datatest'], H['labeltest'] for test dataset.\n",
    "print(data_train.shape,label_train.shape)"
   ]
  },
  {
   "cell_type": "code",
   "execution_count": 202,
   "id": "certain-fighter",
   "metadata": {},
   "outputs": [
    {
     "name": "stdout",
     "output_type": "stream",
     "text": [
      "(5000, 784) (2000,)\n"
     ]
    }
   ],
   "source": [
    "with h5py.File('./Input/test/images_testing.h5','r') as H:\n",
    "    data_test = np.copy(H['datatest'])\n",
    "with h5py.File('./Input/test/labels_testing_2000.h5','r') as H:\n",
    "    label_test = np.copy(H['labeltest'])\n",
    "print(data_test.shape,label_test.shape)"
   ]
  },
  {
   "cell_type": "markdown",
   "id": "caring-stick",
   "metadata": {},
   "source": [
    "What does the dataset actually look like?"
   ]
  },
  {
   "cell_type": "code",
   "execution_count": 203,
   "id": "creative-front",
   "metadata": {},
   "outputs": [
    {
     "data": {
      "text/plain": [
       "array([0.        , 0.        , 0.        , 0.        , 0.        ,\n",
       "       0.        , 0.        , 0.00392157, 0.        , 0.00784314,\n",
       "       0.        , 0.        , 0.35686275, 0.5372549 , 0.64705884,\n",
       "       0.53333336, 0.        , 0.        , 0.00392157, 0.        ,\n",
       "       0.        , 0.        , 0.        , 0.        , 0.        ,\n",
       "       0.        , 0.        , 0.        , 0.        , 0.        ,\n",
       "       0.        , 0.        , 0.        , 0.        , 0.00392157,\n",
       "       0.        , 0.        , 0.        , 0.        , 0.69803923,\n",
       "       0.80392164, 0.63529414, 0.7058824 , 0.8078432 , 0.8352942 ,\n",
       "       0.00392157, 0.        , 0.        , 0.        , 0.00392157,\n",
       "       0.        , 0.        , 0.        , 0.        , 0.        ,\n",
       "       0.        , 0.        , 0.        , 0.        , 0.        ,\n",
       "       0.        , 0.        , 0.        , 0.        , 0.00392157,\n",
       "       0.27450982, 0.85098046, 0.7725491 , 0.7411765 , 0.8862746 ,\n",
       "       0.8431373 , 0.8313726 , 0.8313726 , 1.        , 0.28235295,\n",
       "       0.        , 0.        , 0.        , 0.        , 0.        ,\n",
       "       0.        , 0.        , 0.        , 0.        , 0.        ,\n",
       "       0.        , 0.        , 0.        , 0.        , 0.        ,\n",
       "       0.30980393, 0.5803922 , 0.61960787, 0.6901961 , 0.7137255 ,\n",
       "       0.7490196 , 0.7294118 , 0.8000001 , 0.909804  , 0.75294125,\n",
       "       0.7372549 , 0.7137255 , 0.89019614, 0.909804  , 0.5176471 ,\n",
       "       0.18823531, 0.        , 0.        , 0.        , 0.        ,\n",
       "       0.        , 0.        , 0.        , 0.        , 0.        ,\n",
       "       0.        , 0.        , 0.05490196, 0.86666673, 0.41176474,\n",
       "       0.30980393, 0.33333334, 0.47058827, 0.73333335, 0.53333336,\n",
       "       0.6313726 , 0.6784314 , 0.46274513, 0.29411766, 0.34509805,\n",
       "       0.44705886, 0.68235296, 0.6117647 , 0.7490196 , 0.07843138,\n",
       "       0.        , 0.        , 0.        , 0.        , 0.        ,\n",
       "       0.        , 0.        , 0.        , 0.        , 0.        ,\n",
       "       0.3803922 , 0.6784314 , 0.30588236, 0.3254902 , 0.30980393,\n",
       "       0.43529415, 0.7019608 , 0.49803925, 0.5764706 , 0.67058825,\n",
       "       0.41960788, 0.24313727, 0.2627451 , 0.47058827, 0.6509804 ,\n",
       "       0.43529415, 0.54509807, 0.3803922 , 0.        , 0.        ,\n",
       "       0.        , 0.        , 0.        , 0.        , 0.        ,\n",
       "       0.        , 0.        , 0.        , 0.5803922 , 0.61960787,\n",
       "       0.5176471 , 0.4431373 , 0.44705886, 0.58431375, 0.83921576,\n",
       "       0.6509804 , 0.6156863 , 0.68235296, 0.5176471 , 0.41960788,\n",
       "       0.54901963, 0.7137255 , 0.8078432 , 0.5137255 , 0.4156863 ,\n",
       "       0.54509807, 0.        , 0.        , 0.        , 0.        ,\n",
       "       0.        , 0.        , 0.        , 0.        , 0.        ,\n",
       "       0.        , 0.8235295 , 0.7372549 , 0.7176471 , 0.5647059 ,\n",
       "       0.5529412 , 0.6784314 , 0.92549026, 0.7843138 , 0.69803923,\n",
       "       0.8352942 , 0.67058825, 0.7019608 , 0.6901961 , 0.8313726 ,\n",
       "       0.95294124, 0.6392157 , 0.5254902 , 0.76470596, 0.        ,\n",
       "       0.        , 0.        , 0.        , 0.        , 0.        ,\n",
       "       0.        , 0.        , 0.        , 0.        , 0.75294125,\n",
       "       0.7803922 , 0.7686275 , 0.43529415, 0.43529415, 0.45098042,\n",
       "       0.8313726 , 0.6901961 , 0.6117647 , 0.6627451 , 0.5529412 ,\n",
       "       0.5529412 , 0.49411768, 0.7019608 , 0.80392164, 0.69803923,\n",
       "       0.6784314 , 0.8588236 , 0.        , 0.        , 0.        ,\n",
       "       0.        , 0.        , 0.        , 0.        , 0.        ,\n",
       "       0.        , 0.09019608, 0.6901961 , 0.5764706 , 0.7019608 ,\n",
       "       0.3647059 , 0.3137255 , 0.34117648, 0.6862745 , 0.5764706 ,\n",
       "       0.5254902 , 0.67058825, 0.31764707, 0.34901962, 0.36862746,\n",
       "       0.61960787, 0.6117647 , 0.6313726 , 0.3647059 , 0.6666667 ,\n",
       "       0.02352941, 0.        , 0.        , 0.        , 0.        ,\n",
       "       0.        , 0.        , 0.        , 0.        , 0.5294118 ,\n",
       "       0.75294125, 0.5529412 , 0.8705883 , 0.4431373 , 0.26666668,\n",
       "       0.3254902 , 0.67058825, 0.54509807, 0.4666667 , 0.63529414,\n",
       "       0.3137255 , 0.29411766, 0.2901961 , 0.6156863 , 0.5882353 ,\n",
       "       0.5764706 , 0.427451  , 0.76470596, 0.3647059 , 0.        ,\n",
       "       0.        , 0.        , 0.        , 0.        , 0.        ,\n",
       "       0.        , 0.        , 0.        , 0.24313727, 0.5176471 ,\n",
       "       0.627451  , 0.49803925, 0.36078432, 0.36078432, 0.64705884,\n",
       "       0.6627451 , 0.49803925, 0.63529414, 0.30980393, 0.36078432,\n",
       "       0.3803922 , 0.7058824 , 0.45882356, 0.81568635, 0.882353  ,\n",
       "       0.40000004, 0.1137255 , 0.        , 0.        , 0.        ,\n",
       "       0.        , 0.        , 0.        , 0.        , 0.        ,\n",
       "       0.        , 0.        , 0.        , 0.        , 0.7176471 ,\n",
       "       0.49411768, 0.5254902 , 0.8313726 , 0.8000001 , 0.6901961 ,\n",
       "       0.6862745 , 0.4431373 , 0.5137255 , 0.6       , 0.80392164,\n",
       "       0.61960787, 0.        , 0.        , 0.        , 0.        ,\n",
       "       0.        , 0.        , 0.        , 0.        , 0.        ,\n",
       "       0.        , 0.        , 0.        , 0.        , 0.01176471,\n",
       "       0.        , 0.        , 0.7803922 , 0.5803922 , 0.59607846,\n",
       "       0.92549026, 0.8196079 , 0.8000001 , 0.92549026, 0.63529414,\n",
       "       0.6156863 , 0.627451  , 0.8352942 , 0.63529414, 0.        ,\n",
       "       0.        , 0.        , 0.        , 0.        , 0.        ,\n",
       "       0.        , 0.        , 0.        , 0.        , 0.        ,\n",
       "       0.        , 0.        , 0.        , 0.        , 0.        ,\n",
       "       0.5803922 , 0.4156863 , 0.43137258, 0.7176471 , 0.6784314 ,\n",
       "       0.68235296, 0.7843138 , 0.45882356, 0.47058827, 0.47058827,\n",
       "       0.7019608 , 0.39607847, 0.        , 0.        , 0.        ,\n",
       "       0.        , 0.        , 0.        , 0.        , 0.        ,\n",
       "       0.        , 0.        , 0.        , 0.        , 0.        ,\n",
       "       0.        , 0.        , 0.        , 0.43137258, 0.37647063,\n",
       "       0.34117648, 0.61960787, 0.61960787, 0.5254902 , 0.5803922 ,\n",
       "       0.3137255 , 0.29803923, 0.3803922 , 0.6901961 , 0.3137255 ,\n",
       "       0.        , 0.        , 0.        , 0.        , 0.        ,\n",
       "       0.        , 0.        , 0.        , 0.        , 0.        ,\n",
       "       0.        , 0.        , 0.        , 0.        , 0.        ,\n",
       "       0.        , 0.29411766, 0.4156863 , 0.33333334, 0.6039216 ,\n",
       "       0.6313726 , 0.50980395, 0.58431375, 0.2901961 , 0.2901961 ,\n",
       "       0.34117648, 0.6784314 , 0.2392157 , 0.        , 0.00784314,\n",
       "       0.        , 0.        , 0.        , 0.        , 0.        ,\n",
       "       0.        , 0.        , 0.        , 0.        , 0.        ,\n",
       "       0.        , 0.        , 0.        , 0.        , 0.39607847,\n",
       "       0.5019608 , 0.3921569 , 0.6862745 , 0.67058825, 0.63529414,\n",
       "       0.5686275 , 0.36078432, 0.3921569 , 0.34117648, 0.6862745 ,\n",
       "       0.20784315, 0.        , 0.00784314, 0.        , 0.        ,\n",
       "       0.        , 0.        , 0.        , 0.        , 0.        ,\n",
       "       0.        , 0.        , 0.        , 0.        , 0.        ,\n",
       "       0.        , 0.        , 0.5647059 , 0.68235296, 0.58431375,\n",
       "       0.8352942 , 0.882353  , 0.80392164, 0.7490196 , 0.5803922 ,\n",
       "       0.5764706 , 0.6039216 , 0.8352942 , 0.25490198, 0.        ,\n",
       "       0.00784314, 0.        , 0.        , 0.        , 0.        ,\n",
       "       0.        , 0.        , 0.        , 0.        , 0.        ,\n",
       "       0.        , 0.        , 0.        , 0.        , 0.        ,\n",
       "       0.43137258, 0.5803922 , 0.5019608 , 0.80392164, 0.76470596,\n",
       "       0.80392164, 0.85098046, 0.5372549 , 0.54509807, 0.54901963,\n",
       "       0.7372549 , 0.2392157 , 0.        , 0.00784314, 0.        ,\n",
       "       0.        , 0.        , 0.        , 0.        , 0.        ,\n",
       "       0.        , 0.        , 0.        , 0.        , 0.        ,\n",
       "       0.        , 0.        , 0.        , 0.3803922 , 0.44705886,\n",
       "       0.3803922 , 0.6627451 , 0.654902  , 0.6392157 , 0.7058824 ,\n",
       "       0.3921569 , 0.4431373 , 0.3921569 , 0.7490196 , 0.2627451 ,\n",
       "       0.        , 0.00784314, 0.        , 0.        , 0.        ,\n",
       "       0.        , 0.        , 0.        , 0.        , 0.        ,\n",
       "       0.        , 0.        , 0.        , 0.        , 0.        ,\n",
       "       0.        , 0.4156863 , 0.38431376, 0.32941177, 0.5372549 ,\n",
       "       0.6117647 , 0.5372549 , 0.5764706 , 0.2901961 , 0.30980393,\n",
       "       0.33333334, 0.72156864, 0.32941177, 0.        , 0.00784314,\n",
       "       0.        , 0.        , 0.        , 0.        , 0.        ,\n",
       "       0.        , 0.        , 0.        , 0.        , 0.        ,\n",
       "       0.        , 0.00392157, 0.        , 0.        , 0.48235297,\n",
       "       0.41176474, 0.37647063, 0.64705884, 0.6039216 , 0.59607846,\n",
       "       0.654902  , 0.29803923, 0.32941177, 0.38431376, 0.68235296,\n",
       "       0.28235295, 0.        , 0.00392157, 0.        , 0.        ,\n",
       "       0.        , 0.        , 0.        , 0.        , 0.        ,\n",
       "       0.        , 0.        , 0.        , 0.        , 0.00392157,\n",
       "       0.        , 0.        , 0.64705884, 0.5882353 , 0.5764706 ,\n",
       "       0.8235295 , 0.76470596, 0.627451  , 0.7176471 , 0.3921569 ,\n",
       "       0.4431373 , 0.49411768, 0.8196079 , 0.36078432, 0.        ,\n",
       "       0.00784314, 0.        , 0.        , 0.        , 0.        ,\n",
       "       0.        , 0.        , 0.        , 0.        , 0.        ,\n",
       "       0.        , 0.        , 0.        , 0.        , 0.        ,\n",
       "       0.5882353 , 0.58431375, 0.64705884, 0.8196079 , 0.8078432 ,\n",
       "       0.7686275 , 0.95294124, 0.5764706 , 0.5803922 , 0.63529414,\n",
       "       0.8431373 , 0.44705886, 0.        , 0.00784314, 0.        ,\n",
       "       0.        , 0.        , 0.        , 0.        , 0.        ,\n",
       "       0.        , 0.        , 0.        , 0.        , 0.        ,\n",
       "       0.        , 0.        , 0.        , 0.43137258, 0.59607846,\n",
       "       0.5372549 , 0.7294118 , 0.6862745 , 0.654902  , 0.8352942 ,\n",
       "       0.43137258, 0.49411768, 0.5176471 , 0.80392164, 0.49411768,\n",
       "       0.        , 0.00784314, 0.        , 0.        , 0.        ,\n",
       "       0.        , 0.        , 0.        , 0.        , 0.        ,\n",
       "       0.        , 0.        , 0.        , 0.        , 0.00392157,\n",
       "       0.        , 0.        , 0.34901962, 0.54509807, 0.81568635,\n",
       "       0.7019608 , 0.61960787, 0.73333335, 0.427451  , 0.4784314 ,\n",
       "       0.54901963, 0.6509804 , 0.        , 0.        , 0.00784314,\n",
       "       0.        , 0.        , 0.        , 0.        , 0.        ,\n",
       "       0.        , 0.        , 0.        , 0.        , 0.        ,\n",
       "       0.        , 0.        , 0.        , 0.        , 0.        ,\n",
       "       0.        , 0.        , 0.09019608, 0.10588236, 0.20392159,\n",
       "       0.34117648, 0.1137255 , 0.07058824, 0.        , 0.        ,\n",
       "       0.        , 0.        , 0.        , 0.        , 0.        ,\n",
       "       0.        , 0.        , 0.        , 0.        ], dtype=float32)"
      ]
     },
     "execution_count": 203,
     "metadata": {},
     "output_type": "execute_result"
    }
   ],
   "source": [
    "data_train[0]"
   ]
  },
  {
   "cell_type": "markdown",
   "id": "compact-physiology",
   "metadata": {},
   "source": [
    "Seeing minimum and maximum values of dataset (all values seem to be between 0 and 1)"
   ]
  },
  {
   "cell_type": "code",
   "execution_count": 204,
   "id": "novel-briefs",
   "metadata": {},
   "outputs": [
    {
     "name": "stdout",
     "output_type": "stream",
     "text": [
      "1.0\n",
      "0.0\n"
     ]
    }
   ],
   "source": [
    "print(np.amax(data_train))\n",
    "print(np.amin(data_train))"
   ]
  },
  {
   "cell_type": "markdown",
   "id": "fifteen-gambling",
   "metadata": {},
   "source": [
    "Visualising the dataset"
   ]
  },
  {
   "cell_type": "code",
   "execution_count": 205,
   "id": "square-plaza",
   "metadata": {},
   "outputs": [
    {
     "data": {
      "image/png": "[encoded data removed]",
      "text/plain": [
       "<Figure size 432x288 with 1 Axes>"
      ]
     },
     "metadata": {
      "needs_background": "light"
     },
     "output_type": "display_data"
    }
   ],
   "source": [
    "data_train_reshaped = data_train.reshape((data_train.shape[0], 28, 28))\n",
    "plt.imshow(data_train_reshaped[0], cmap=plt.get_cmap('gray'))\n",
    "plt.title(\"class \" + str(label_train[0]) + \": T-shirt/Top\" )\n",
    "plt.show()"
   ]
  },
  {
   "cell_type": "code",
   "execution_count": 367,
   "id": "pending-question",
   "metadata": {},
   "outputs": [],
   "source": [
    "from sklearn.decomposition import PCA"
   ]
  },
  {
   "cell_type": "markdown",
   "id": "general-malta",
   "metadata": {},
   "source": [
    "Seeing how many dimensions we can reduce to using PCA first without losing too much variance"
   ]
  },
  {
   "cell_type": "code",
   "execution_count": 366,
   "id": "nonprofit-archives",
   "metadata": {
    "scrolled": true
   },
   "outputs": [
    {
     "data": {
      "image/png": "[encoded data removed]",
      "text/plain": [
       "<Figure size 432x288 with 1 Axes>"
      ]
     },
     "metadata": {
      "needs_background": "light"
     },
     "output_type": "display_data"
    }
   ],
   "source": [
    "pca = PCA()\n",
    "pca.fit(data_train)\n",
    "cumsum = np.cumsum(pca.explained_variance_ratio_)\n",
    "\n",
    "# Plot the explained variance vs number of dimensions\n",
    "\n",
    "plt.figure(figsize = (6,4))\n",
    "plt.plot(cumsum, linewidth=3)\n",
    "plt.axis([0, 784, 0, 1]) \n",
    "plt.xlabel(\"dimensions\")\n",
    "plt.ylabel(\"explained variance (%)\")\n",
    "plt.grid(True)\n",
    "plt.show()"
   ]
  },
  {
   "cell_type": "markdown",
   "id": "concerned-postcard",
   "metadata": {},
   "source": [
    "100 dimensions seems to be a good amount and it still conserves 91.2% of the variance so looks good"
   ]
  },
  {
   "cell_type": "code",
   "execution_count": 368,
   "id": "opposed-enlargement",
   "metadata": {},
   "outputs": [],
   "source": [
    "d = np.argmax(cumsum >= 0.95) + 1"
   ]
  },
  {
   "cell_type": "markdown",
   "id": "nasty-delay",
   "metadata": {},
   "source": [
    "To get to 95% variance you need to add 87 more dimensions (not worth it, stay at 100 dimensions)"
   ]
  },
  {
   "cell_type": "code",
   "execution_count": 211,
   "id": "chicken-pattern",
   "metadata": {},
   "outputs": [
    {
     "data": {
      "text/plain": [
       "0.9127719"
      ]
     },
     "execution_count": 211,
     "metadata": {},
     "output_type": "execute_result"
    }
   ],
   "source": [
    "cumsum[100]"
   ]
  },
  {
   "cell_type": "code",
   "execution_count": 212,
   "id": "genetic-dividend",
   "metadata": {},
   "outputs": [
    {
     "name": "stdout",
     "output_type": "stream",
     "text": [
      "Reduced shape of training data: (30000, 100)\n",
      "Reduced shape of training data: (5000, 100)\n"
     ]
    }
   ],
   "source": [
    "pca=PCA(n_components=100)\n",
    "X_train_reduced = pca.fit_transform(data_train)\n",
    "print(\"Reduced shape of training data: {}\".format(str(X_train_reduced.shape)))\n",
    "X_test_reduced = pca.transform(data_test)\n",
    "print(\"Reduced shape of training data: {}\".format(str(X_test_reduced.shape)))"
   ]
  },
  {
   "cell_type": "markdown",
   "id": "rough-dance",
   "metadata": {},
   "source": [
    "Want to test how much image quality is lost from the compression (no significant quality lost from pca so can carry on)"
   ]
  },
  {
   "cell_type": "code",
   "execution_count": 351,
   "id": "bizarre-carpet",
   "metadata": {},
   "outputs": [
    {
     "name": "stdout",
     "output_type": "stream",
     "text": [
      "Recovered shape of training data: (30000, 784)\n"
     ]
    },
    {
     "data": {
      "image/png": "[encoded data removed]",
      "text/plain": [
       "<Figure size 432x288 with 1 Axes>"
      ]
     },
     "metadata": {
      "needs_background": "light"
     },
     "output_type": "display_data"
    }
   ],
   "source": [
    "X_train_recovered = pca.inverse_transform(X_train_reduced)\n",
    "print(\"Recovered shape of training data: {}\".format(str(X_train_recovered.shape)))\n",
    "import matplotlib.pyplot as plt\n",
    "X_train_recovered = X_train_recovered.reshape((X_train_recovered.shape[0], 28, 28))\n",
    "plt.imshow(X_train_recovered[1023], cmap=plt.get_cmap('gray'))\n",
    "plt.title(\"class \" + str(label_train[1023]))\n",
    "plt.show()"
   ]
  },
  {
   "cell_type": "code",
   "execution_count": 352,
   "id": "manual-length",
   "metadata": {},
   "outputs": [
    {
     "data": {
      "image/png": "[encoded data removed]",
      "text/plain": [
       "<Figure size 432x288 with 1 Axes>"
      ]
     },
     "metadata": {
      "needs_background": "light"
     },
     "output_type": "display_data"
    }
   ],
   "source": [
    "data_train_reshaped = data_train.reshape((data_train.shape[0], 28, 28))\n",
    "plt.imshow(data_train_reshaped[1023], cmap=plt.get_cmap('gray'))\n",
    "plt.title(\"class \" + str(label_train[1023]) )\n",
    "plt.show()"
   ]
  },
  {
   "cell_type": "code",
   "execution_count": 353,
   "id": "stopped-orleans",
   "metadata": {},
   "outputs": [],
   "source": [
    "from sklearn.ensemble import RandomForestClassifier\n",
    "from sklearn.model_selection import train_test_split"
   ]
  },
  {
   "cell_type": "code",
   "execution_count": 218,
   "id": "voluntary-calgary",
   "metadata": {},
   "outputs": [],
   "source": [
    "from sklearn.model_selection import GridSearchCV\n",
    "from sklearn.neighbors import KNeighborsClassifier"
   ]
  },
  {
   "cell_type": "markdown",
   "id": "egyptian-blocking",
   "metadata": {},
   "source": [
    "Random Forest Classifier Grid Search"
   ]
  },
  {
   "cell_type": "code",
   "execution_count": 219,
   "id": "vocal-winner",
   "metadata": {},
   "outputs": [
    {
     "name": "stdout",
     "output_type": "stream",
     "text": [
      "Parameter grid:\n",
      "{'n_estimators': [10, 20, 50, 100, 200], 'max_depth': [10, 20]}\n",
      "Fitting 10 folds for each of 10 candidates, totalling 100 fits\n",
      "[CV 1/10] END .................max_depth=10, n_estimators=10; total time=   5.1s\n",
      "[CV 2/10] END .................max_depth=10, n_estimators=10; total time=   5.1s\n",
      "[CV 3/10] END .................max_depth=10, n_estimators=10; total time=   5.1s\n",
      "[CV 4/10] END .................max_depth=10, n_estimators=10; total time=   5.0s\n",
      "[CV 5/10] END .................max_depth=10, n_estimators=10; total time=   5.0s\n",
      "[CV 6/10] END .................max_depth=10, n_estimators=10; total time=   5.1s\n",
      "[CV 7/10] END .................max_depth=10, n_estimators=10; total time=   5.1s\n",
      "[CV 8/10] END .................max_depth=10, n_estimators=10; total time=   5.0s\n",
      "[CV 9/10] END .................max_depth=10, n_estimators=10; total time=   5.0s\n",
      "[CV 10/10] END ................max_depth=10, n_estimators=10; total time=   5.1s\n",
      "[CV 1/10] END .................max_depth=10, n_estimators=20; total time=  10.1s\n",
      "[CV 2/10] END .................max_depth=10, n_estimators=20; total time=  10.2s\n",
      "[CV 3/10] END .................max_depth=10, n_estimators=20; total time=  10.2s\n",
      "[CV 4/10] END .................max_depth=10, n_estimators=20; total time=  10.1s\n",
      "[CV 5/10] END .................max_depth=10, n_estimators=20; total time=  10.2s\n",
      "[CV 6/10] END .................max_depth=10, n_estimators=20; total time=  10.3s\n",
      "[CV 7/10] END .................max_depth=10, n_estimators=20; total time=  10.2s\n",
      "[CV 8/10] END .................max_depth=10, n_estimators=20; total time=  10.3s\n",
      "[CV 9/10] END .................max_depth=10, n_estimators=20; total time=   9.4s\n",
      "[CV 10/10] END ................max_depth=10, n_estimators=20; total time=   4.7s\n",
      "[CV 1/10] END .................max_depth=10, n_estimators=50; total time=  12.3s\n",
      "[CV 2/10] END .................max_depth=10, n_estimators=50; total time=  11.9s\n",
      "[CV 3/10] END .................max_depth=10, n_estimators=50; total time=  11.7s\n",
      "[CV 4/10] END .................max_depth=10, n_estimators=50; total time=  11.8s\n",
      "[CV 5/10] END .................max_depth=10, n_estimators=50; total time=  11.8s\n",
      "[CV 6/10] END .................max_depth=10, n_estimators=50; total time=  12.0s\n",
      "[CV 7/10] END .................max_depth=10, n_estimators=50; total time=  11.8s\n",
      "[CV 8/10] END .................max_depth=10, n_estimators=50; total time=  11.9s\n",
      "[CV 9/10] END .................max_depth=10, n_estimators=50; total time=  11.8s\n",
      "[CV 10/10] END ................max_depth=10, n_estimators=50; total time=  11.8s\n",
      "[CV 1/10] END ................max_depth=10, n_estimators=100; total time=  23.6s\n",
      "[CV 2/10] END ................max_depth=10, n_estimators=100; total time=  23.7s\n",
      "[CV 3/10] END ................max_depth=10, n_estimators=100; total time=  23.9s\n",
      "[CV 4/10] END ................max_depth=10, n_estimators=100; total time=  23.6s\n",
      "[CV 5/10] END ................max_depth=10, n_estimators=100; total time=  23.6s\n",
      "[CV 6/10] END ................max_depth=10, n_estimators=100; total time=  23.9s\n",
      "[CV 7/10] END ................max_depth=10, n_estimators=100; total time=  24.0s\n",
      "[CV 8/10] END ................max_depth=10, n_estimators=100; total time=  23.7s\n",
      "[CV 9/10] END ................max_depth=10, n_estimators=100; total time=  23.7s\n",
      "[CV 10/10] END ...............max_depth=10, n_estimators=100; total time=  23.9s\n",
      "[CV 1/10] END ................max_depth=10, n_estimators=200; total time=  47.9s\n",
      "[CV 2/10] END ................max_depth=10, n_estimators=200; total time=  47.5s\n",
      "[CV 3/10] END ................max_depth=10, n_estimators=200; total time=  47.3s\n",
      "[CV 4/10] END ................max_depth=10, n_estimators=200; total time=  47.6s\n",
      "[CV 5/10] END ................max_depth=10, n_estimators=200; total time=  48.2s\n",
      "[CV 6/10] END ................max_depth=10, n_estimators=200; total time=  48.1s\n",
      "[CV 7/10] END ................max_depth=10, n_estimators=200; total time=  47.3s\n",
      "[CV 8/10] END ................max_depth=10, n_estimators=200; total time=  47.4s\n",
      "[CV 9/10] END ................max_depth=10, n_estimators=200; total time=  47.4s\n",
      "[CV 10/10] END ...............max_depth=10, n_estimators=200; total time=  47.1s\n",
      "[CV 1/10] END .................max_depth=20, n_estimators=10; total time=   3.3s\n",
      "[CV 2/10] END .................max_depth=20, n_estimators=10; total time=   3.3s\n",
      "[CV 3/10] END .................max_depth=20, n_estimators=10; total time=   3.2s\n",
      "[CV 4/10] END .................max_depth=20, n_estimators=10; total time=   3.4s\n",
      "[CV 5/10] END .................max_depth=20, n_estimators=10; total time=   3.3s\n",
      "[CV 6/10] END .................max_depth=20, n_estimators=10; total time=   3.2s\n",
      "[CV 7/10] END .................max_depth=20, n_estimators=10; total time=   3.3s\n",
      "[CV 8/10] END .................max_depth=20, n_estimators=10; total time=   3.2s\n",
      "[CV 9/10] END .................max_depth=20, n_estimators=10; total time=   3.3s\n",
      "[CV 10/10] END ................max_depth=20, n_estimators=10; total time=   3.3s\n",
      "[CV 1/10] END .................max_depth=20, n_estimators=20; total time=   6.6s\n",
      "[CV 2/10] END .................max_depth=20, n_estimators=20; total time=   6.6s\n",
      "[CV 3/10] END .................max_depth=20, n_estimators=20; total time=   6.8s\n",
      "[CV 4/10] END .................max_depth=20, n_estimators=20; total time=   6.6s\n",
      "[CV 5/10] END .................max_depth=20, n_estimators=20; total time=   6.6s\n",
      "[CV 6/10] END .................max_depth=20, n_estimators=20; total time=   6.5s\n",
      "[CV 7/10] END .................max_depth=20, n_estimators=20; total time=   6.6s\n",
      "[CV 8/10] END .................max_depth=20, n_estimators=20; total time=   6.6s\n",
      "[CV 9/10] END .................max_depth=20, n_estimators=20; total time=   6.6s\n",
      "[CV 10/10] END ................max_depth=20, n_estimators=20; total time=   6.6s\n",
      "[CV 1/10] END .................max_depth=20, n_estimators=50; total time=  16.7s\n",
      "[CV 2/10] END .................max_depth=20, n_estimators=50; total time=  16.8s\n",
      "[CV 3/10] END .................max_depth=20, n_estimators=50; total time=  16.8s\n",
      "[CV 4/10] END .................max_depth=20, n_estimators=50; total time=  16.6s\n",
      "[CV 5/10] END .................max_depth=20, n_estimators=50; total time=  16.8s\n",
      "[CV 6/10] END .................max_depth=20, n_estimators=50; total time=  16.6s\n",
      "[CV 7/10] END .................max_depth=20, n_estimators=50; total time=  17.8s\n",
      "[CV 8/10] END .................max_depth=20, n_estimators=50; total time=  18.8s\n",
      "[CV 9/10] END .................max_depth=20, n_estimators=50; total time=  17.3s\n",
      "[CV 10/10] END ................max_depth=20, n_estimators=50; total time=  17.6s\n",
      "[CV 1/10] END ................max_depth=20, n_estimators=100; total time=  35.3s\n",
      "[CV 2/10] END ................max_depth=20, n_estimators=100; total time=  36.3s\n",
      "[CV 3/10] END ................max_depth=20, n_estimators=100; total time=  33.7s\n",
      "[CV 4/10] END ................max_depth=20, n_estimators=100; total time=  33.6s\n",
      "[CV 5/10] END ................max_depth=20, n_estimators=100; total time=  33.9s\n",
      "[CV 6/10] END ................max_depth=20, n_estimators=100; total time=  35.0s\n",
      "[CV 7/10] END ................max_depth=20, n_estimators=100; total time=  34.4s\n",
      "[CV 8/10] END ................max_depth=20, n_estimators=100; total time=  34.8s\n",
      "[CV 9/10] END ................max_depth=20, n_estimators=100; total time=  37.8s\n",
      "[CV 10/10] END ...............max_depth=20, n_estimators=100; total time=  35.6s\n",
      "[CV 1/10] END ................max_depth=20, n_estimators=200; total time= 1.2min\n",
      "[CV 2/10] END ................max_depth=20, n_estimators=200; total time= 1.2min\n",
      "[CV 3/10] END ................max_depth=20, n_estimators=200; total time= 1.2min\n",
      "[CV 4/10] END ................max_depth=20, n_estimators=200; total time= 1.2min\n",
      "[CV 5/10] END ................max_depth=20, n_estimators=200; total time= 1.2min\n",
      "[CV 6/10] END ................max_depth=20, n_estimators=200; total time= 1.2min\n",
      "[CV 7/10] END ................max_depth=20, n_estimators=200; total time= 1.3min\n",
      "[CV 8/10] END ................max_depth=20, n_estimators=200; total time= 1.2min\n",
      "[CV 9/10] END ................max_depth=20, n_estimators=200; total time= 1.2min\n",
      "[CV 10/10] END ...............max_depth=20, n_estimators=200; total time= 1.2min\n"
     ]
    },
    {
     "data": {
      "text/plain": [
       "GridSearchCV(cv=10, estimator=RandomForestClassifier(),\n",
       "             param_grid={'max_depth': [10, 20],\n",
       "                         'n_estimators': [10, 20, 50, 100, 200]},\n",
       "             return_train_score=True, verbose=4)"
      ]
     },
     "execution_count": 219,
     "metadata": {},
     "output_type": "execute_result"
    }
   ],
   "source": [
    "param_grid_rf = {'n_estimators': [10,20,50,100,200],\n",
    "              'max_depth': [10, 20]}\n",
    "print(\"Parameter grid:\\n{}\".format(param_grid_rf))\n",
    "grid_search_rf = GridSearchCV(RandomForestClassifier(), param_grid_rf, cv=10,\n",
    "                          return_train_score=True,verbose=4)\n",
    "grid_search_rf.fit(X_train_reduced,label_train)\n"
   ]
  },
  {
   "cell_type": "code",
   "execution_count": 220,
   "id": "ranging-helen",
   "metadata": {
    "scrolled": false
   },
   "outputs": [
    {
     "name": "stdout",
     "output_type": "stream",
     "text": [
      "Best parameters: {'max_depth': 20, 'n_estimators': 200}\n",
      "Best cross-validation score: 0.86\n",
      "Best estimator:\n",
      "RandomForestClassifier(max_depth=20, n_estimators=200)\n"
     ]
    }
   ],
   "source": [
    "print(\"Best parameters: {}\".format(grid_search_rf.best_params_))\n",
    "print(\"Best cross-validation score: {:.2f}\".format(grid_search_rf.best_score_))\n",
    "print(\"Best estimator:\\n{}\".format(grid_search_rf.best_estimator_))"
   ]
  },
  {
   "cell_type": "code",
   "execution_count": 316,
   "id": "deadly-envelope",
   "metadata": {},
   "outputs": [
    {
     "name": "stdout",
     "output_type": "stream",
     "text": [
      "[0.79906667 0.81456667 0.8228     0.82793333 0.82893333 0.82143333\n",
      " 0.84476667 0.8545     0.8599     0.86133333]\n",
      "[{'max_depth': 10, 'n_estimators': 10}, {'max_depth': 10, 'n_estimators': 20}, {'max_depth': 10, 'n_estimators': 50}, {'max_depth': 10, 'n_estimators': 100}, {'max_depth': 10, 'n_estimators': 200}, {'max_depth': 20, 'n_estimators': 10}, {'max_depth': 20, 'n_estimators': 20}, {'max_depth': 20, 'n_estimators': 50}, {'max_depth': 20, 'n_estimators': 100}, {'max_depth': 20, 'n_estimators': 200}]\n",
      "[0.79906667 0.81456667 0.8228     0.82793333 0.82893333]\n"
     ]
    }
   ],
   "source": [
    "print(grid_search_rf.cv_results_['mean_test_score'])\n",
    "print(grid_search_rf.cv_results_['params'])\n",
    "print(grid_search_rf.cv_results_['mean_test_score'][0:5])"
   ]
  },
  {
   "cell_type": "code",
   "execution_count": 309,
   "id": "national-danger",
   "metadata": {},
   "outputs": [
    {
     "data": {
      "text/plain": [
       "[{'max_depth': 10, 'n_estimators': 10},\n",
       " {'max_depth': 10, 'n_estimators': 20},\n",
       " {'max_depth': 10, 'n_estimators': 50},\n",
       " {'max_depth': 10, 'n_estimators': 100},\n",
       " {'max_depth': 10, 'n_estimators': 200}]"
      ]
     },
     "execution_count": 309,
     "metadata": {},
     "output_type": "execute_result"
    }
   ],
   "source": [
    "grid_search_rf.cv_results_['params'][0:5]"
   ]
  },
  {
   "cell_type": "code",
   "execution_count": 326,
   "id": "pursuant-sister",
   "metadata": {},
   "outputs": [
    {
     "data": {
      "text/plain": [
       "<matplotlib.legend.Legend at 0x28a82cde070>"
      ]
     },
     "execution_count": 326,
     "metadata": {},
     "output_type": "execute_result"
    },
    {
     "data": {
      "image/png": "[encoded data removed]",
      "text/plain": [
       "<Figure size 432x288 with 1 Axes>"
      ]
     },
     "metadata": {
      "needs_background": "light"
     },
     "output_type": "display_data"
    }
   ],
   "source": [
    "plt.plot([10,20,50,100,200],grid_search_rf.cv_results_['mean_test_score'][0:5],label=\"max_depth = 10\")\n",
    "plt.plot([10,20,50,100,200],grid_search_rf.cv_results_['mean_test_score'][5:10],label=\"max_depth = 20\")\n",
    "plt.ylabel(\"Mean Test Score for Folds\")\n",
    "plt.xlabel(\"Number of Estimators\")\n",
    "plt.legend(loc = \"lower right\")"
   ]
  },
  {
   "cell_type": "markdown",
   "id": "basic-seeker",
   "metadata": {},
   "source": [
    "K Nearest Neighbours Grid Search"
   ]
  },
  {
   "cell_type": "code",
   "execution_count": 229,
   "id": "floppy-partnership",
   "metadata": {},
   "outputs": [
    {
     "name": "stdout",
     "output_type": "stream",
     "text": [
      "Parameter grid:\n",
      "{'n_neighbors': [3, 5, 7, 9, 11], 'p': [1, 2]}\n",
      "Fitting 10 folds for each of 10 candidates, totalling 100 fits\n",
      "[CV 1/10] END ............................n_neighbors=3, p=1; total time=  10.5s\n",
      "[CV 2/10] END ............................n_neighbors=3, p=1; total time=  10.5s\n",
      "[CV 3/10] END ............................n_neighbors=3, p=1; total time=  11.1s\n",
      "[CV 4/10] END ............................n_neighbors=3, p=1; total time=  10.2s\n",
      "[CV 5/10] END ............................n_neighbors=3, p=1; total time=  10.2s\n",
      "[CV 6/10] END ............................n_neighbors=3, p=1; total time=  10.3s\n",
      "[CV 7/10] END ............................n_neighbors=3, p=1; total time=  10.7s\n",
      "[CV 8/10] END ............................n_neighbors=3, p=1; total time=  10.2s\n",
      "[CV 9/10] END ............................n_neighbors=3, p=1; total time=  10.4s\n",
      "[CV 10/10] END ...........................n_neighbors=3, p=1; total time=  10.2s\n",
      "[CV 1/10] END ............................n_neighbors=3, p=2; total time=   2.0s\n",
      "[CV 2/10] END ............................n_neighbors=3, p=2; total time=   1.9s\n",
      "[CV 3/10] END ............................n_neighbors=3, p=2; total time=   1.9s\n",
      "[CV 4/10] END ............................n_neighbors=3, p=2; total time=   1.9s\n",
      "[CV 5/10] END ............................n_neighbors=3, p=2; total time=   1.9s\n",
      "[CV 6/10] END ............................n_neighbors=3, p=2; total time=   1.9s\n",
      "[CV 7/10] END ............................n_neighbors=3, p=2; total time=   1.9s\n",
      "[CV 8/10] END ............................n_neighbors=3, p=2; total time=   1.9s\n",
      "[CV 9/10] END ............................n_neighbors=3, p=2; total time=   1.9s\n",
      "[CV 10/10] END ...........................n_neighbors=3, p=2; total time=   1.9s\n",
      "[CV 1/10] END ............................n_neighbors=5, p=1; total time=  10.4s\n",
      "[CV 2/10] END ............................n_neighbors=5, p=1; total time=  10.9s\n",
      "[CV 3/10] END ............................n_neighbors=5, p=1; total time=  10.6s\n",
      "[CV 4/10] END ............................n_neighbors=5, p=1; total time=  10.6s\n",
      "[CV 5/10] END ............................n_neighbors=5, p=1; total time=  10.5s\n",
      "[CV 6/10] END ............................n_neighbors=5, p=1; total time=  10.7s\n",
      "[CV 7/10] END ............................n_neighbors=5, p=1; total time=  10.6s\n",
      "[CV 8/10] END ............................n_neighbors=5, p=1; total time=  10.7s\n",
      "[CV 9/10] END ............................n_neighbors=5, p=1; total time=  10.7s\n",
      "[CV 10/10] END ...........................n_neighbors=5, p=1; total time=  10.6s\n",
      "[CV 1/10] END ............................n_neighbors=5, p=2; total time=   2.1s\n",
      "[CV 2/10] END ............................n_neighbors=5, p=2; total time=   2.2s\n",
      "[CV 3/10] END ............................n_neighbors=5, p=2; total time=   2.1s\n",
      "[CV 4/10] END ............................n_neighbors=5, p=2; total time=   2.1s\n",
      "[CV 5/10] END ............................n_neighbors=5, p=2; total time=   2.1s\n",
      "[CV 6/10] END ............................n_neighbors=5, p=2; total time=   2.1s\n",
      "[CV 7/10] END ............................n_neighbors=5, p=2; total time=   2.1s\n",
      "[CV 8/10] END ............................n_neighbors=5, p=2; total time=   2.1s\n",
      "[CV 9/10] END ............................n_neighbors=5, p=2; total time=   2.3s\n",
      "[CV 10/10] END ...........................n_neighbors=5, p=2; total time=   2.2s\n",
      "[CV 1/10] END ............................n_neighbors=7, p=1; total time=  10.7s\n",
      "[CV 2/10] END ............................n_neighbors=7, p=1; total time=  11.9s\n",
      "[CV 3/10] END ............................n_neighbors=7, p=1; total time=  10.8s\n",
      "[CV 4/10] END ............................n_neighbors=7, p=1; total time=  12.1s\n",
      "[CV 5/10] END ............................n_neighbors=7, p=1; total time=  11.0s\n",
      "[CV 6/10] END ............................n_neighbors=7, p=1; total time=  10.7s\n",
      "[CV 7/10] END ............................n_neighbors=7, p=1; total time=  10.6s\n",
      "[CV 8/10] END ............................n_neighbors=7, p=1; total time=  11.2s\n",
      "[CV 9/10] END ............................n_neighbors=7, p=1; total time=  10.9s\n",
      "[CV 10/10] END ...........................n_neighbors=7, p=1; total time=  10.7s\n",
      "[CV 1/10] END ............................n_neighbors=7, p=2; total time=   2.1s\n",
      "[CV 2/10] END ............................n_neighbors=7, p=2; total time=   2.1s\n",
      "[CV 3/10] END ............................n_neighbors=7, p=2; total time=   2.1s\n",
      "[CV 4/10] END ............................n_neighbors=7, p=2; total time=   2.1s\n",
      "[CV 5/10] END ............................n_neighbors=7, p=2; total time=   2.3s\n",
      "[CV 6/10] END ............................n_neighbors=7, p=2; total time=   2.1s\n",
      "[CV 7/10] END ............................n_neighbors=7, p=2; total time=   2.3s\n",
      "[CV 8/10] END ............................n_neighbors=7, p=2; total time=   2.2s\n",
      "[CV 9/10] END ............................n_neighbors=7, p=2; total time=   2.1s\n",
      "[CV 10/10] END ...........................n_neighbors=7, p=2; total time=   2.2s\n",
      "[CV 1/10] END ............................n_neighbors=9, p=1; total time=  10.8s\n",
      "[CV 2/10] END ............................n_neighbors=9, p=1; total time=  10.8s\n",
      "[CV 3/10] END ............................n_neighbors=9, p=1; total time=  10.8s\n",
      "[CV 4/10] END ............................n_neighbors=9, p=1; total time=  11.2s\n",
      "[CV 5/10] END ............................n_neighbors=9, p=1; total time=  10.7s\n",
      "[CV 6/10] END ............................n_neighbors=9, p=1; total time=  10.8s\n",
      "[CV 7/10] END ............................n_neighbors=9, p=1; total time=  11.1s\n",
      "[CV 8/10] END ............................n_neighbors=9, p=1; total time=  10.7s\n",
      "[CV 9/10] END ............................n_neighbors=9, p=1; total time=  10.9s\n",
      "[CV 10/10] END ...........................n_neighbors=9, p=1; total time=  10.9s\n",
      "[CV 1/10] END ............................n_neighbors=9, p=2; total time=   2.1s\n",
      "[CV 2/10] END ............................n_neighbors=9, p=2; total time=   2.1s\n",
      "[CV 3/10] END ............................n_neighbors=9, p=2; total time=   2.0s\n",
      "[CV 4/10] END ............................n_neighbors=9, p=2; total time=   2.0s\n",
      "[CV 5/10] END ............................n_neighbors=9, p=2; total time=   2.1s\n",
      "[CV 6/10] END ............................n_neighbors=9, p=2; total time=   2.1s\n",
      "[CV 7/10] END ............................n_neighbors=9, p=2; total time=   2.1s\n",
      "[CV 8/10] END ............................n_neighbors=9, p=2; total time=   2.1s\n",
      "[CV 9/10] END ............................n_neighbors=9, p=2; total time=   2.1s\n",
      "[CV 10/10] END ...........................n_neighbors=9, p=2; total time=   2.1s\n",
      "[CV 1/10] END ...........................n_neighbors=11, p=1; total time=  10.5s\n",
      "[CV 2/10] END ...........................n_neighbors=11, p=1; total time=  10.6s\n",
      "[CV 3/10] END ...........................n_neighbors=11, p=1; total time=  10.6s\n",
      "[CV 4/10] END ...........................n_neighbors=11, p=1; total time=  10.5s\n",
      "[CV 5/10] END ...........................n_neighbors=11, p=1; total time=  10.5s\n",
      "[CV 6/10] END ...........................n_neighbors=11, p=1; total time=  10.6s\n",
      "[CV 7/10] END ...........................n_neighbors=11, p=1; total time=  10.5s\n",
      "[CV 8/10] END ...........................n_neighbors=11, p=1; total time=  10.6s\n",
      "[CV 9/10] END ...........................n_neighbors=11, p=1; total time=  10.5s\n",
      "[CV 10/10] END ..........................n_neighbors=11, p=1; total time=  10.6s\n",
      "[CV 1/10] END ...........................n_neighbors=11, p=2; total time=   2.1s\n",
      "[CV 2/10] END ...........................n_neighbors=11, p=2; total time=   2.1s\n",
      "[CV 3/10] END ...........................n_neighbors=11, p=2; total time=   2.1s\n",
      "[CV 4/10] END ...........................n_neighbors=11, p=2; total time=   2.0s\n",
      "[CV 5/10] END ...........................n_neighbors=11, p=2; total time=   2.1s\n",
      "[CV 6/10] END ...........................n_neighbors=11, p=2; total time=   2.1s\n",
      "[CV 7/10] END ...........................n_neighbors=11, p=2; total time=   2.1s\n",
      "[CV 8/10] END ...........................n_neighbors=11, p=2; total time=   2.1s\n",
      "[CV 9/10] END ...........................n_neighbors=11, p=2; total time=   2.1s\n",
      "[CV 10/10] END ..........................n_neighbors=11, p=2; total time=   2.1s\n"
     ]
    },
    {
     "data": {
      "text/plain": [
       "GridSearchCV(cv=10, estimator=KNeighborsClassifier(),\n",
       "             param_grid={'n_neighbors': [3, 5, 7, 9, 11], 'p': [1, 2]},\n",
       "             return_train_score=True, verbose=4)"
      ]
     },
     "execution_count": 229,
     "metadata": {},
     "output_type": "execute_result"
    }
   ],
   "source": [
    "param_grid_knn = {'n_neighbors': [3,5,7,9,11],\n",
    "              'p': [1, 2]}\n",
    "print(\"Parameter grid:\\n{}\".format(param_grid_knn))\n",
    "grid_search_knn = GridSearchCV(KNeighborsClassifier(), param_grid_knn, cv=10,\n",
    "                          return_train_score=True,verbose=4)\n",
    "grid_search_knn.fit(X_train_reduced,label_train)\n"
   ]
  },
  {
   "cell_type": "code",
   "execution_count": 230,
   "id": "scheduled-multimedia",
   "metadata": {},
   "outputs": [
    {
     "name": "stdout",
     "output_type": "stream",
     "text": [
      "Best parameters: {'n_neighbors': 9, 'p': 1}\n",
      "Best cross-validation score: 0.86\n",
      "Best estimator:\n",
      "KNeighborsClassifier(n_neighbors=9, p=1)\n"
     ]
    }
   ],
   "source": [
    "print(\"Best parameters: {}\".format(grid_search_knn.best_params_))\n",
    "print(\"Best cross-validation score: {:.2f}\".format(grid_search_knn.best_score_))\n",
    "print(\"Best estimator:\\n{}\".format(grid_search_knn.best_estimator_))"
   ]
  },
  {
   "cell_type": "code",
   "execution_count": 329,
   "id": "visible-embassy",
   "metadata": {},
   "outputs": [
    {
     "name": "stdout",
     "output_type": "stream",
     "text": [
      "[0.85483333 0.85076667 0.857      0.8547     0.85846667 0.8546\n",
      " 0.85883333 0.85613333 0.85676667 0.85453333]\n",
      "[{'n_neighbors': 3, 'p': 1}, {'n_neighbors': 3, 'p': 2}, {'n_neighbors': 5, 'p': 1}, {'n_neighbors': 5, 'p': 2}, {'n_neighbors': 7, 'p': 1}, {'n_neighbors': 7, 'p': 2}, {'n_neighbors': 9, 'p': 1}, {'n_neighbors': 9, 'p': 2}, {'n_neighbors': 11, 'p': 1}, {'n_neighbors': 11, 'p': 2}]\n"
     ]
    }
   ],
   "source": [
    "print(grid_search_knn.cv_results_['mean_test_score'])\n",
    "print(grid_search_knn.cv_results_['params'])"
   ]
  },
  {
   "cell_type": "code",
   "execution_count": 354,
   "id": "dependent-terrain",
   "metadata": {},
   "outputs": [
    {
     "data": {
      "text/plain": [
       "<matplotlib.legend.Legend at 0x28a82c3cd90>"
      ]
     },
     "execution_count": 354,
     "metadata": {},
     "output_type": "execute_result"
    },
    {
     "data": {
      "image/png": "[encoded data removed]",
      "text/plain": [
       "<Figure size 432x288 with 1 Axes>"
      ]
     },
     "metadata": {
      "needs_background": "light"
     },
     "output_type": "display_data"
    }
   ],
   "source": [
    "plt.plot([3,5,7,9,11],grid_search_knn.cv_results_['mean_test_score'][0:10:2],label=\"Manhattan\")\n",
    "plt.plot([3,5,7,9,11],grid_search_knn.cv_results_['mean_test_score'][1:11:2],label=\"Euclidean\")\n",
    "plt.ylabel(\"Mean Test Score for Folds\")\n",
    "plt.xlabel(\"Number of Neighbors\")\n",
    "plt.legend(loc = \"lower right\")"
   ]
  },
  {
   "cell_type": "markdown",
   "id": "bottom-rough",
   "metadata": {},
   "source": [
    "Support Vector Machine Grid Search"
   ]
  },
  {
   "cell_type": "code",
   "execution_count": 225,
   "id": "driving-parent",
   "metadata": {},
   "outputs": [
    {
     "name": "stdout",
     "output_type": "stream",
     "text": [
      "Parameter grid:\n",
      "{'C': [0.1, 1, 10, 100, 1000], 'kernel': ['rbf', 'poly']}\n",
      "Fitting 10 folds for each of 10 candidates, totalling 100 fits\n",
      "[CV 1/10] END .............................C=0.1, kernel=rbf; total time=  48.3s\n",
      "[CV 2/10] END .............................C=0.1, kernel=rbf; total time=  47.1s\n",
      "[CV 3/10] END .............................C=0.1, kernel=rbf; total time=  46.9s\n",
      "[CV 4/10] END .............................C=0.1, kernel=rbf; total time=  46.9s\n",
      "[CV 5/10] END .............................C=0.1, kernel=rbf; total time=  47.2s\n",
      "[CV 6/10] END .............................C=0.1, kernel=rbf; total time=  47.5s\n",
      "[CV 7/10] END .............................C=0.1, kernel=rbf; total time=  47.1s\n",
      "[CV 8/10] END .............................C=0.1, kernel=rbf; total time=  46.8s\n",
      "[CV 9/10] END .............................C=0.1, kernel=rbf; total time=  47.1s\n",
      "[CV 10/10] END ............................C=0.1, kernel=rbf; total time=  46.9s\n",
      "[CV 1/10] END ............................C=0.1, kernel=poly; total time=  53.0s\n",
      "[CV 2/10] END ............................C=0.1, kernel=poly; total time=  52.8s\n",
      "[CV 3/10] END ............................C=0.1, kernel=poly; total time=  52.6s\n",
      "[CV 4/10] END ............................C=0.1, kernel=poly; total time=  52.9s\n",
      "[CV 5/10] END ............................C=0.1, kernel=poly; total time=  53.1s\n",
      "[CV 6/10] END ............................C=0.1, kernel=poly; total time=  52.8s\n",
      "[CV 7/10] END ............................C=0.1, kernel=poly; total time=  52.7s\n",
      "[CV 8/10] END ............................C=0.1, kernel=poly; total time=  52.7s\n",
      "[CV 9/10] END ............................C=0.1, kernel=poly; total time=  53.1s\n",
      "[CV 10/10] END ...........................C=0.1, kernel=poly; total time=  53.0s\n",
      "[CV 1/10] END ...............................C=1, kernel=rbf; total time=  29.0s\n",
      "[CV 2/10] END ...............................C=1, kernel=rbf; total time=  29.1s\n",
      "[CV 3/10] END ...............................C=1, kernel=rbf; total time=  29.0s\n",
      "[CV 4/10] END ...............................C=1, kernel=rbf; total time=  29.3s\n",
      "[CV 5/10] END ...............................C=1, kernel=rbf; total time=  29.1s\n",
      "[CV 6/10] END ...............................C=1, kernel=rbf; total time=  29.1s\n",
      "[CV 7/10] END ...............................C=1, kernel=rbf; total time=  29.1s\n",
      "[CV 8/10] END ...............................C=1, kernel=rbf; total time=  29.2s\n",
      "[CV 9/10] END ...............................C=1, kernel=rbf; total time=  29.2s\n",
      "[CV 10/10] END ..............................C=1, kernel=rbf; total time=  29.1s\n",
      "[CV 1/10] END ..............................C=1, kernel=poly; total time=  30.0s\n",
      "[CV 2/10] END ..............................C=1, kernel=poly; total time=  30.0s\n",
      "[CV 3/10] END ..............................C=1, kernel=poly; total time=  30.0s\n",
      "[CV 4/10] END ..............................C=1, kernel=poly; total time=  30.0s\n",
      "[CV 5/10] END ..............................C=1, kernel=poly; total time=  30.1s\n",
      "[CV 6/10] END ..............................C=1, kernel=poly; total time=  30.0s\n",
      "[CV 7/10] END ..............................C=1, kernel=poly; total time=  30.0s\n",
      "[CV 8/10] END ..............................C=1, kernel=poly; total time=  29.9s\n",
      "[CV 9/10] END ..............................C=1, kernel=poly; total time=  31.7s\n",
      "[CV 10/10] END .............................C=1, kernel=poly; total time=  30.0s\n",
      "[CV 1/10] END ..............................C=10, kernel=rbf; total time=  26.3s\n",
      "[CV 2/10] END ..............................C=10, kernel=rbf; total time=  26.6s\n",
      "[CV 3/10] END ..............................C=10, kernel=rbf; total time=  26.0s\n",
      "[CV 4/10] END ..............................C=10, kernel=rbf; total time=  26.5s\n",
      "[CV 5/10] END ..............................C=10, kernel=rbf; total time=  26.4s\n",
      "[CV 6/10] END ..............................C=10, kernel=rbf; total time=  26.3s\n",
      "[CV 7/10] END ..............................C=10, kernel=rbf; total time=  26.5s\n",
      "[CV 8/10] END ..............................C=10, kernel=rbf; total time=  26.4s\n",
      "[CV 9/10] END ..............................C=10, kernel=rbf; total time=  26.5s\n",
      "[CV 10/10] END .............................C=10, kernel=rbf; total time=  26.3s\n",
      "[CV 1/10] END .............................C=10, kernel=poly; total time=  24.6s\n",
      "[CV 2/10] END .............................C=10, kernel=poly; total time=  24.8s\n",
      "[CV 3/10] END .............................C=10, kernel=poly; total time=  24.4s\n",
      "[CV 4/10] END .............................C=10, kernel=poly; total time=  24.7s\n",
      "[CV 5/10] END .............................C=10, kernel=poly; total time=  24.8s\n",
      "[CV 6/10] END .............................C=10, kernel=poly; total time=  24.6s\n",
      "[CV 7/10] END .............................C=10, kernel=poly; total time=  25.0s\n",
      "[CV 8/10] END .............................C=10, kernel=poly; total time=  24.6s\n",
      "[CV 9/10] END .............................C=10, kernel=poly; total time=  24.8s\n",
      "[CV 10/10] END ............................C=10, kernel=poly; total time=  24.7s\n",
      "[CV 1/10] END .............................C=100, kernel=rbf; total time=  28.6s\n",
      "[CV 2/10] END .............................C=100, kernel=rbf; total time=  28.5s\n",
      "[CV 3/10] END .............................C=100, kernel=rbf; total time=  28.4s\n",
      "[CV 4/10] END .............................C=100, kernel=rbf; total time=  28.6s\n",
      "[CV 5/10] END .............................C=100, kernel=rbf; total time=  28.7s\n",
      "[CV 6/10] END .............................C=100, kernel=rbf; total time=  28.8s\n",
      "[CV 7/10] END .............................C=100, kernel=rbf; total time=  28.8s\n",
      "[CV 8/10] END .............................C=100, kernel=rbf; total time=  28.5s\n",
      "[CV 9/10] END .............................C=100, kernel=rbf; total time=  28.7s\n",
      "[CV 10/10] END ............................C=100, kernel=rbf; total time=  28.5s\n",
      "[CV 1/10] END ............................C=100, kernel=poly; total time=  26.8s\n",
      "[CV 2/10] END ............................C=100, kernel=poly; total time=  26.7s\n",
      "[CV 3/10] END ............................C=100, kernel=poly; total time=  26.6s\n",
      "[CV 4/10] END ............................C=100, kernel=poly; total time=  27.1s\n",
      "[CV 5/10] END ............................C=100, kernel=poly; total time=  27.0s\n",
      "[CV 6/10] END ............................C=100, kernel=poly; total time=  26.9s\n",
      "[CV 7/10] END ............................C=100, kernel=poly; total time=  27.2s\n",
      "[CV 8/10] END ............................C=100, kernel=poly; total time=  26.8s\n",
      "[CV 9/10] END ............................C=100, kernel=poly; total time=  27.1s\n",
      "[CV 10/10] END ...........................C=100, kernel=poly; total time=  26.8s\n",
      "[CV 1/10] END ............................C=1000, kernel=rbf; total time=  28.8s\n",
      "[CV 2/10] END ............................C=1000, kernel=rbf; total time=  28.8s\n",
      "[CV 3/10] END ............................C=1000, kernel=rbf; total time=  28.8s\n",
      "[CV 4/10] END ............................C=1000, kernel=rbf; total time=  28.9s\n",
      "[CV 5/10] END ............................C=1000, kernel=rbf; total time=  29.0s\n",
      "[CV 6/10] END ............................C=1000, kernel=rbf; total time=  29.0s\n",
      "[CV 7/10] END ............................C=1000, kernel=rbf; total time=  29.3s\n",
      "[CV 8/10] END ............................C=1000, kernel=rbf; total time=  28.6s\n",
      "[CV 9/10] END ............................C=1000, kernel=rbf; total time=  29.0s\n",
      "[CV 10/10] END ...........................C=1000, kernel=rbf; total time=  29.0s\n",
      "[CV 1/10] END ...........................C=1000, kernel=poly; total time=  27.6s\n",
      "[CV 2/10] END ...........................C=1000, kernel=poly; total time=  27.5s\n",
      "[CV 3/10] END ...........................C=1000, kernel=poly; total time=  27.6s\n",
      "[CV 4/10] END ...........................C=1000, kernel=poly; total time=  27.7s\n",
      "[CV 5/10] END ...........................C=1000, kernel=poly; total time=  27.8s\n",
      "[CV 6/10] END ...........................C=1000, kernel=poly; total time=  27.7s\n",
      "[CV 7/10] END ...........................C=1000, kernel=poly; total time=  27.8s\n",
      "[CV 8/10] END ...........................C=1000, kernel=poly; total time=  27.3s\n",
      "[CV 9/10] END ...........................C=1000, kernel=poly; total time=  27.9s\n",
      "[CV 10/10] END ..........................C=1000, kernel=poly; total time=  27.7s\n"
     ]
    },
    {
     "data": {
      "text/plain": [
       "GridSearchCV(cv=10, estimator=SVC(),\n",
       "             param_grid={'C': [0.1, 1, 10, 100, 1000],\n",
       "                         'kernel': ['rbf', 'poly']},\n",
       "             return_train_score=True, verbose=4)"
      ]
     },
     "execution_count": 225,
     "metadata": {},
     "output_type": "execute_result"
    }
   ],
   "source": [
    "from sklearn.svm import SVC\n",
    "param_grid_svc = {\"C\" : [0.1,1,10,100,1000],\n",
    "              'kernel': [\"rbf\", \"poly\"]}\n",
    "print(\"Parameter grid:\\n{}\".format(param_grid_svc))\n",
    "grid_search_svc = GridSearchCV(SVC(), param_grid_svc, cv=10,\n",
    "                          return_train_score=True,verbose=4)\n",
    "grid_search_svc.fit(X_train_reduced,label_train)"
   ]
  },
  {
   "cell_type": "code",
   "execution_count": 226,
   "id": "featured-investing",
   "metadata": {},
   "outputs": [
    {
     "name": "stdout",
     "output_type": "stream",
     "text": [
      "Best parameters: {'C': 10, 'kernel': 'rbf'}\n",
      "Best cross-validation score: 0.90\n",
      "Best estimator:\n",
      "SVC(C=10)\n"
     ]
    }
   ],
   "source": [
    "print(\"Best parameters: {}\".format(grid_search_svc.best_params_))\n",
    "print(\"Best cross-validation score: {:.2f}\".format(grid_search_svc.best_score_))\n",
    "print(\"Best estimator:\\n{}\".format(grid_search_svc.best_estimator_))"
   ]
  },
  {
   "cell_type": "code",
   "execution_count": 336,
   "id": "latin-lindsay",
   "metadata": {},
   "outputs": [
    {
     "name": "stdout",
     "output_type": "stream",
     "text": [
      "[0.8413     0.80846667 0.88396667 0.87446667 0.8968     0.89343333\n",
      " 0.88956667 0.88576667 0.88613333 0.8811    ]\n",
      "[{'C': 0.1, 'kernel': 'rbf'}, {'C': 0.1, 'kernel': 'poly'}, {'C': 1, 'kernel': 'rbf'}, {'C': 1, 'kernel': 'poly'}, {'C': 10, 'kernel': 'rbf'}, {'C': 10, 'kernel': 'poly'}, {'C': 100, 'kernel': 'rbf'}, {'C': 100, 'kernel': 'poly'}, {'C': 1000, 'kernel': 'rbf'}, {'C': 1000, 'kernel': 'poly'}]\n"
     ]
    }
   ],
   "source": [
    "print(grid_search_svc.cv_results_['mean_test_score'])\n",
    "print(grid_search_svc.cv_results_['params'])"
   ]
  },
  {
   "cell_type": "code",
   "execution_count": 341,
   "id": "developed-breath",
   "metadata": {},
   "outputs": [
    {
     "data": {
      "text/plain": [
       "<matplotlib.legend.Legend at 0x28a80d01700>"
      ]
     },
     "execution_count": 341,
     "metadata": {},
     "output_type": "execute_result"
    },
    {
     "data": {
      "image/png": "[encoded data removed]",
      "text/plain": [
       "<Figure size 432x288 with 1 Axes>"
      ]
     },
     "metadata": {
      "needs_background": "light"
     },
     "output_type": "display_data"
    }
   ],
   "source": [
    "plt.plot([-1,0,1,2,3],grid_search_knn.cv_results_['mean_test_score'][0:10:2],label=\"RBF Kernel\")\n",
    "plt.plot([-1,0,1,2,3],grid_search_knn.cv_results_['mean_test_score'][1:11:2],label=\"Polynomial Kernel\")\n",
    "plt.ylabel(\"Mean Test Score for Folds\")\n",
    "plt.xlabel(\"log(C Regularisation Value)\")\n",
    "plt.legend(loc = \"lower right\")"
   ]
  },
  {
   "cell_type": "markdown",
   "id": "exceptional-moldova",
   "metadata": {},
   "source": [
    "Grid Search on Gradient Boosting (took too long so aborted)"
   ]
  },
  {
   "cell_type": "code",
   "execution_count": 227,
   "id": "charitable-surveillance",
   "metadata": {},
   "outputs": [
    {
     "name": "stdout",
     "output_type": "stream",
     "text": [
      "Parameter grid:\n",
      "{'n_estimators': [10, 20, 50, 100, 200], 'max_depth': [10, 20]}\n",
      "Fitting 10 folds for each of 10 candidates, totalling 100 fits\n",
      "[CV 1/10] END .................max_depth=10, n_estimators=10; total time= 5.5min\n",
      "[CV 2/10] END .................max_depth=10, n_estimators=10; total time= 5.5min\n",
      "[CV 3/10] END .................max_depth=10, n_estimators=10; total time= 5.5min\n",
      "[CV 4/10] END .................max_depth=10, n_estimators=10; total time= 5.5min\n",
      "[CV 5/10] END .................max_depth=10, n_estimators=10; total time= 5.4min\n",
      "[CV 6/10] END .................max_depth=10, n_estimators=10; total time= 5.5min\n",
      "[CV 7/10] END .................max_depth=10, n_estimators=10; total time= 5.5min\n",
      "[CV 8/10] END .................max_depth=10, n_estimators=10; total time= 5.5min\n",
      "[CV 9/10] END .................max_depth=10, n_estimators=10; total time= 5.5min\n",
      "[CV 10/10] END ................max_depth=10, n_estimators=10; total time= 5.5min\n",
      "[CV 1/10] END .................max_depth=10, n_estimators=20; total time=10.9min\n",
      "[CV 2/10] END .................max_depth=10, n_estimators=20; total time=10.8min\n",
      "[CV 3/10] END .................max_depth=10, n_estimators=20; total time=10.9min\n",
      "[CV 4/10] END .................max_depth=10, n_estimators=20; total time=10.9min\n",
      "[CV 5/10] END .................max_depth=10, n_estimators=20; total time=11.0min\n",
      "[CV 6/10] END .................max_depth=10, n_estimators=20; total time=10.8min\n",
      "[CV 7/10] END .................max_depth=10, n_estimators=20; total time=10.9min\n",
      "[CV 8/10] END .................max_depth=10, n_estimators=20; total time=11.0min\n",
      "[CV 9/10] END .................max_depth=10, n_estimators=20; total time=10.8min\n",
      "[CV 10/10] END ................max_depth=10, n_estimators=20; total time=10.9min\n",
      "[CV 1/10] END .................max_depth=10, n_estimators=50; total time=26.8min\n",
      "[CV 2/10] END .................max_depth=10, n_estimators=50; total time=26.9min\n",
      "[CV 3/10] END .................max_depth=10, n_estimators=50; total time=26.7min\n",
      "[CV 4/10] END .................max_depth=10, n_estimators=50; total time=26.7min\n",
      "[CV 5/10] END .................max_depth=10, n_estimators=50; total time=26.8min\n",
      "[CV 6/10] END .................max_depth=10, n_estimators=50; total time=26.8min\n",
      "[CV 7/10] END .................max_depth=10, n_estimators=50; total time=26.9min\n",
      "[CV 8/10] END .................max_depth=10, n_estimators=50; total time=26.7min\n"
     ]
    },
    {
     "ename": "KeyboardInterrupt",
     "evalue": "",
     "output_type": "error",
     "traceback": [
      "\u001b[1;31m---------------------------------------------------------------------------\u001b[0m",
      "\u001b[1;31mKeyboardInterrupt\u001b[0m                         Traceback (most recent call last)",
      "\u001b[1;32m<ipython-input-227-a98319d74473>\u001b[0m in \u001b[0;36m<module>\u001b[1;34m\u001b[0m\n\u001b[0;32m      5\u001b[0m grid_search_gbc = GridSearchCV(GradientBoostingClassifier(), param_grid_gbc, cv=10,\n\u001b[0;32m      6\u001b[0m                           return_train_score=True,verbose=4)\n\u001b[1;32m----> 7\u001b[1;33m \u001b[0mgrid_search_gbc\u001b[0m\u001b[1;33m.\u001b[0m\u001b[0mfit\u001b[0m\u001b[1;33m(\u001b[0m\u001b[0mX_train_reduced\u001b[0m\u001b[1;33m,\u001b[0m\u001b[0mlabel_train\u001b[0m\u001b[1;33m)\u001b[0m\u001b[1;33m\u001b[0m\u001b[1;33m\u001b[0m\u001b[0m\n\u001b[0m",
      "\u001b[1;32mc:\\users\\rishik\\appdata\\local\\programs\\python\\python39\\lib\\site-packages\\sklearn\\utils\\validation.py\u001b[0m in \u001b[0;36minner_f\u001b[1;34m(*args, **kwargs)\u001b[0m\n\u001b[0;32m     61\u001b[0m             \u001b[0mextra_args\u001b[0m \u001b[1;33m=\u001b[0m \u001b[0mlen\u001b[0m\u001b[1;33m(\u001b[0m\u001b[0margs\u001b[0m\u001b[1;33m)\u001b[0m \u001b[1;33m-\u001b[0m \u001b[0mlen\u001b[0m\u001b[1;33m(\u001b[0m\u001b[0mall_args\u001b[0m\u001b[1;33m)\u001b[0m\u001b[1;33m\u001b[0m\u001b[1;33m\u001b[0m\u001b[0m\n\u001b[0;32m     62\u001b[0m             \u001b[1;32mif\u001b[0m \u001b[0mextra_args\u001b[0m \u001b[1;33m<=\u001b[0m \u001b[1;36m0\u001b[0m\u001b[1;33m:\u001b[0m\u001b[1;33m\u001b[0m\u001b[1;33m\u001b[0m\u001b[0m\n\u001b[1;32m---> 63\u001b[1;33m                 \u001b[1;32mreturn\u001b[0m \u001b[0mf\u001b[0m\u001b[1;33m(\u001b[0m\u001b[1;33m*\u001b[0m\u001b[0margs\u001b[0m\u001b[1;33m,\u001b[0m \u001b[1;33m**\u001b[0m\u001b[0mkwargs\u001b[0m\u001b[1;33m)\u001b[0m\u001b[1;33m\u001b[0m\u001b[1;33m\u001b[0m\u001b[0m\n\u001b[0m\u001b[0;32m     64\u001b[0m \u001b[1;33m\u001b[0m\u001b[0m\n\u001b[0;32m     65\u001b[0m             \u001b[1;31m# extra_args > 0\u001b[0m\u001b[1;33m\u001b[0m\u001b[1;33m\u001b[0m\u001b[1;33m\u001b[0m\u001b[0m\n",
      "\u001b[1;32mc:\\users\\rishik\\appdata\\local\\programs\\python\\python39\\lib\\site-packages\\sklearn\\model_selection\\_search.py\u001b[0m in \u001b[0;36mfit\u001b[1;34m(self, X, y, groups, **fit_params)\u001b[0m\n\u001b[0;32m    839\u001b[0m                 \u001b[1;32mreturn\u001b[0m \u001b[0mresults\u001b[0m\u001b[1;33m\u001b[0m\u001b[1;33m\u001b[0m\u001b[0m\n\u001b[0;32m    840\u001b[0m \u001b[1;33m\u001b[0m\u001b[0m\n\u001b[1;32m--> 841\u001b[1;33m             \u001b[0mself\u001b[0m\u001b[1;33m.\u001b[0m\u001b[0m_run_search\u001b[0m\u001b[1;33m(\u001b[0m\u001b[0mevaluate_candidates\u001b[0m\u001b[1;33m)\u001b[0m\u001b[1;33m\u001b[0m\u001b[1;33m\u001b[0m\u001b[0m\n\u001b[0m\u001b[0;32m    842\u001b[0m \u001b[1;33m\u001b[0m\u001b[0m\n\u001b[0;32m    843\u001b[0m             \u001b[1;31m# multimetric is determined here because in the case of a callable\u001b[0m\u001b[1;33m\u001b[0m\u001b[1;33m\u001b[0m\u001b[1;33m\u001b[0m\u001b[0m\n",
      "\u001b[1;32mc:\\users\\rishik\\appdata\\local\\programs\\python\\python39\\lib\\site-packages\\sklearn\\model_selection\\_search.py\u001b[0m in \u001b[0;36m_run_search\u001b[1;34m(self, evaluate_candidates)\u001b[0m\n\u001b[0;32m   1286\u001b[0m     \u001b[1;32mdef\u001b[0m \u001b[0m_run_search\u001b[0m\u001b[1;33m(\u001b[0m\u001b[0mself\u001b[0m\u001b[1;33m,\u001b[0m \u001b[0mevaluate_candidates\u001b[0m\u001b[1;33m)\u001b[0m\u001b[1;33m:\u001b[0m\u001b[1;33m\u001b[0m\u001b[1;33m\u001b[0m\u001b[0m\n\u001b[0;32m   1287\u001b[0m         \u001b[1;34m\"\"\"Search all candidates in param_grid\"\"\"\u001b[0m\u001b[1;33m\u001b[0m\u001b[1;33m\u001b[0m\u001b[0m\n\u001b[1;32m-> 1288\u001b[1;33m         \u001b[0mevaluate_candidates\u001b[0m\u001b[1;33m(\u001b[0m\u001b[0mParameterGrid\u001b[0m\u001b[1;33m(\u001b[0m\u001b[0mself\u001b[0m\u001b[1;33m.\u001b[0m\u001b[0mparam_grid\u001b[0m\u001b[1;33m)\u001b[0m\u001b[1;33m)\u001b[0m\u001b[1;33m\u001b[0m\u001b[1;33m\u001b[0m\u001b[0m\n\u001b[0m\u001b[0;32m   1289\u001b[0m \u001b[1;33m\u001b[0m\u001b[0m\n\u001b[0;32m   1290\u001b[0m \u001b[1;33m\u001b[0m\u001b[0m\n",
      "\u001b[1;32mc:\\users\\rishik\\appdata\\local\\programs\\python\\python39\\lib\\site-packages\\sklearn\\model_selection\\_search.py\u001b[0m in \u001b[0;36mevaluate_candidates\u001b[1;34m(candidate_params, cv, more_results)\u001b[0m\n\u001b[0;32m    793\u001b[0m                               n_splits, n_candidates, n_candidates * n_splits))\n\u001b[0;32m    794\u001b[0m \u001b[1;33m\u001b[0m\u001b[0m\n\u001b[1;32m--> 795\u001b[1;33m                 out = parallel(delayed(_fit_and_score)(clone(base_estimator),\n\u001b[0m\u001b[0;32m    796\u001b[0m                                                        \u001b[0mX\u001b[0m\u001b[1;33m,\u001b[0m \u001b[0my\u001b[0m\u001b[1;33m,\u001b[0m\u001b[1;33m\u001b[0m\u001b[1;33m\u001b[0m\u001b[0m\n\u001b[0;32m    797\u001b[0m                                                        \u001b[0mtrain\u001b[0m\u001b[1;33m=\u001b[0m\u001b[0mtrain\u001b[0m\u001b[1;33m,\u001b[0m \u001b[0mtest\u001b[0m\u001b[1;33m=\u001b[0m\u001b[0mtest\u001b[0m\u001b[1;33m,\u001b[0m\u001b[1;33m\u001b[0m\u001b[1;33m\u001b[0m\u001b[0m\n",
      "\u001b[1;32mc:\\users\\rishik\\appdata\\local\\programs\\python\\python39\\lib\\site-packages\\joblib\\parallel.py\u001b[0m in \u001b[0;36m__call__\u001b[1;34m(self, iterable)\u001b[0m\n\u001b[0;32m   1042\u001b[0m                 \u001b[0mself\u001b[0m\u001b[1;33m.\u001b[0m\u001b[0m_iterating\u001b[0m \u001b[1;33m=\u001b[0m \u001b[0mself\u001b[0m\u001b[1;33m.\u001b[0m\u001b[0m_original_iterator\u001b[0m \u001b[1;32mis\u001b[0m \u001b[1;32mnot\u001b[0m \u001b[1;32mNone\u001b[0m\u001b[1;33m\u001b[0m\u001b[1;33m\u001b[0m\u001b[0m\n\u001b[0;32m   1043\u001b[0m \u001b[1;33m\u001b[0m\u001b[0m\n\u001b[1;32m-> 1044\u001b[1;33m             \u001b[1;32mwhile\u001b[0m \u001b[0mself\u001b[0m\u001b[1;33m.\u001b[0m\u001b[0mdispatch_one_batch\u001b[0m\u001b[1;33m(\u001b[0m\u001b[0miterator\u001b[0m\u001b[1;33m)\u001b[0m\u001b[1;33m:\u001b[0m\u001b[1;33m\u001b[0m\u001b[1;33m\u001b[0m\u001b[0m\n\u001b[0m\u001b[0;32m   1045\u001b[0m                 \u001b[1;32mpass\u001b[0m\u001b[1;33m\u001b[0m\u001b[1;33m\u001b[0m\u001b[0m\n\u001b[0;32m   1046\u001b[0m \u001b[1;33m\u001b[0m\u001b[0m\n",
      "\u001b[1;32mc:\\users\\rishik\\appdata\\local\\programs\\python\\python39\\lib\\site-packages\\joblib\\parallel.py\u001b[0m in \u001b[0;36mdispatch_one_batch\u001b[1;34m(self, iterator)\u001b[0m\n\u001b[0;32m    857\u001b[0m                 \u001b[1;32mreturn\u001b[0m \u001b[1;32mFalse\u001b[0m\u001b[1;33m\u001b[0m\u001b[1;33m\u001b[0m\u001b[0m\n\u001b[0;32m    858\u001b[0m             \u001b[1;32melse\u001b[0m\u001b[1;33m:\u001b[0m\u001b[1;33m\u001b[0m\u001b[1;33m\u001b[0m\u001b[0m\n\u001b[1;32m--> 859\u001b[1;33m                 \u001b[0mself\u001b[0m\u001b[1;33m.\u001b[0m\u001b[0m_dispatch\u001b[0m\u001b[1;33m(\u001b[0m\u001b[0mtasks\u001b[0m\u001b[1;33m)\u001b[0m\u001b[1;33m\u001b[0m\u001b[1;33m\u001b[0m\u001b[0m\n\u001b[0m\u001b[0;32m    860\u001b[0m                 \u001b[1;32mreturn\u001b[0m \u001b[1;32mTrue\u001b[0m\u001b[1;33m\u001b[0m\u001b[1;33m\u001b[0m\u001b[0m\n\u001b[0;32m    861\u001b[0m \u001b[1;33m\u001b[0m\u001b[0m\n",
      "\u001b[1;32mc:\\users\\rishik\\appdata\\local\\programs\\python\\python39\\lib\\site-packages\\joblib\\parallel.py\u001b[0m in \u001b[0;36m_dispatch\u001b[1;34m(self, batch)\u001b[0m\n\u001b[0;32m    775\u001b[0m         \u001b[1;32mwith\u001b[0m \u001b[0mself\u001b[0m\u001b[1;33m.\u001b[0m\u001b[0m_lock\u001b[0m\u001b[1;33m:\u001b[0m\u001b[1;33m\u001b[0m\u001b[1;33m\u001b[0m\u001b[0m\n\u001b[0;32m    776\u001b[0m             \u001b[0mjob_idx\u001b[0m \u001b[1;33m=\u001b[0m \u001b[0mlen\u001b[0m\u001b[1;33m(\u001b[0m\u001b[0mself\u001b[0m\u001b[1;33m.\u001b[0m\u001b[0m_jobs\u001b[0m\u001b[1;33m)\u001b[0m\u001b[1;33m\u001b[0m\u001b[1;33m\u001b[0m\u001b[0m\n\u001b[1;32m--> 777\u001b[1;33m             \u001b[0mjob\u001b[0m \u001b[1;33m=\u001b[0m \u001b[0mself\u001b[0m\u001b[1;33m.\u001b[0m\u001b[0m_backend\u001b[0m\u001b[1;33m.\u001b[0m\u001b[0mapply_async\u001b[0m\u001b[1;33m(\u001b[0m\u001b[0mbatch\u001b[0m\u001b[1;33m,\u001b[0m \u001b[0mcallback\u001b[0m\u001b[1;33m=\u001b[0m\u001b[0mcb\u001b[0m\u001b[1;33m)\u001b[0m\u001b[1;33m\u001b[0m\u001b[1;33m\u001b[0m\u001b[0m\n\u001b[0m\u001b[0;32m    778\u001b[0m             \u001b[1;31m# A job can complete so quickly than its callback is\u001b[0m\u001b[1;33m\u001b[0m\u001b[1;33m\u001b[0m\u001b[1;33m\u001b[0m\u001b[0m\n\u001b[0;32m    779\u001b[0m             \u001b[1;31m# called before we get here, causing self._jobs to\u001b[0m\u001b[1;33m\u001b[0m\u001b[1;33m\u001b[0m\u001b[1;33m\u001b[0m\u001b[0m\n",
      "\u001b[1;32mc:\\users\\rishik\\appdata\\local\\programs\\python\\python39\\lib\\site-packages\\joblib\\_parallel_backends.py\u001b[0m in \u001b[0;36mapply_async\u001b[1;34m(self, func, callback)\u001b[0m\n\u001b[0;32m    206\u001b[0m     \u001b[1;32mdef\u001b[0m \u001b[0mapply_async\u001b[0m\u001b[1;33m(\u001b[0m\u001b[0mself\u001b[0m\u001b[1;33m,\u001b[0m \u001b[0mfunc\u001b[0m\u001b[1;33m,\u001b[0m \u001b[0mcallback\u001b[0m\u001b[1;33m=\u001b[0m\u001b[1;32mNone\u001b[0m\u001b[1;33m)\u001b[0m\u001b[1;33m:\u001b[0m\u001b[1;33m\u001b[0m\u001b[1;33m\u001b[0m\u001b[0m\n\u001b[0;32m    207\u001b[0m         \u001b[1;34m\"\"\"Schedule a func to be run\"\"\"\u001b[0m\u001b[1;33m\u001b[0m\u001b[1;33m\u001b[0m\u001b[0m\n\u001b[1;32m--> 208\u001b[1;33m         \u001b[0mresult\u001b[0m \u001b[1;33m=\u001b[0m \u001b[0mImmediateResult\u001b[0m\u001b[1;33m(\u001b[0m\u001b[0mfunc\u001b[0m\u001b[1;33m)\u001b[0m\u001b[1;33m\u001b[0m\u001b[1;33m\u001b[0m\u001b[0m\n\u001b[0m\u001b[0;32m    209\u001b[0m         \u001b[1;32mif\u001b[0m \u001b[0mcallback\u001b[0m\u001b[1;33m:\u001b[0m\u001b[1;33m\u001b[0m\u001b[1;33m\u001b[0m\u001b[0m\n\u001b[0;32m    210\u001b[0m             \u001b[0mcallback\u001b[0m\u001b[1;33m(\u001b[0m\u001b[0mresult\u001b[0m\u001b[1;33m)\u001b[0m\u001b[1;33m\u001b[0m\u001b[1;33m\u001b[0m\u001b[0m\n",
      "\u001b[1;32mc:\\users\\rishik\\appdata\\local\\programs\\python\\python39\\lib\\site-packages\\joblib\\_parallel_backends.py\u001b[0m in \u001b[0;36m__init__\u001b[1;34m(self, batch)\u001b[0m\n\u001b[0;32m    570\u001b[0m         \u001b[1;31m# Don't delay the application, to avoid keeping the input\u001b[0m\u001b[1;33m\u001b[0m\u001b[1;33m\u001b[0m\u001b[1;33m\u001b[0m\u001b[0m\n\u001b[0;32m    571\u001b[0m         \u001b[1;31m# arguments in memory\u001b[0m\u001b[1;33m\u001b[0m\u001b[1;33m\u001b[0m\u001b[1;33m\u001b[0m\u001b[0m\n\u001b[1;32m--> 572\u001b[1;33m         \u001b[0mself\u001b[0m\u001b[1;33m.\u001b[0m\u001b[0mresults\u001b[0m \u001b[1;33m=\u001b[0m \u001b[0mbatch\u001b[0m\u001b[1;33m(\u001b[0m\u001b[1;33m)\u001b[0m\u001b[1;33m\u001b[0m\u001b[1;33m\u001b[0m\u001b[0m\n\u001b[0m\u001b[0;32m    573\u001b[0m \u001b[1;33m\u001b[0m\u001b[0m\n\u001b[0;32m    574\u001b[0m     \u001b[1;32mdef\u001b[0m \u001b[0mget\u001b[0m\u001b[1;33m(\u001b[0m\u001b[0mself\u001b[0m\u001b[1;33m)\u001b[0m\u001b[1;33m:\u001b[0m\u001b[1;33m\u001b[0m\u001b[1;33m\u001b[0m\u001b[0m\n",
      "\u001b[1;32mc:\\users\\rishik\\appdata\\local\\programs\\python\\python39\\lib\\site-packages\\joblib\\parallel.py\u001b[0m in \u001b[0;36m__call__\u001b[1;34m(self)\u001b[0m\n\u001b[0;32m    260\u001b[0m         \u001b[1;31m# change the default number of processes to -1\u001b[0m\u001b[1;33m\u001b[0m\u001b[1;33m\u001b[0m\u001b[1;33m\u001b[0m\u001b[0m\n\u001b[0;32m    261\u001b[0m         \u001b[1;32mwith\u001b[0m \u001b[0mparallel_backend\u001b[0m\u001b[1;33m(\u001b[0m\u001b[0mself\u001b[0m\u001b[1;33m.\u001b[0m\u001b[0m_backend\u001b[0m\u001b[1;33m,\u001b[0m \u001b[0mn_jobs\u001b[0m\u001b[1;33m=\u001b[0m\u001b[0mself\u001b[0m\u001b[1;33m.\u001b[0m\u001b[0m_n_jobs\u001b[0m\u001b[1;33m)\u001b[0m\u001b[1;33m:\u001b[0m\u001b[1;33m\u001b[0m\u001b[1;33m\u001b[0m\u001b[0m\n\u001b[1;32m--> 262\u001b[1;33m             return [func(*args, **kwargs)\n\u001b[0m\u001b[0;32m    263\u001b[0m                     for func, args, kwargs in self.items]\n\u001b[0;32m    264\u001b[0m \u001b[1;33m\u001b[0m\u001b[0m\n",
      "\u001b[1;32mc:\\users\\rishik\\appdata\\local\\programs\\python\\python39\\lib\\site-packages\\joblib\\parallel.py\u001b[0m in \u001b[0;36m<listcomp>\u001b[1;34m(.0)\u001b[0m\n\u001b[0;32m    260\u001b[0m         \u001b[1;31m# change the default number of processes to -1\u001b[0m\u001b[1;33m\u001b[0m\u001b[1;33m\u001b[0m\u001b[1;33m\u001b[0m\u001b[0m\n\u001b[0;32m    261\u001b[0m         \u001b[1;32mwith\u001b[0m \u001b[0mparallel_backend\u001b[0m\u001b[1;33m(\u001b[0m\u001b[0mself\u001b[0m\u001b[1;33m.\u001b[0m\u001b[0m_backend\u001b[0m\u001b[1;33m,\u001b[0m \u001b[0mn_jobs\u001b[0m\u001b[1;33m=\u001b[0m\u001b[0mself\u001b[0m\u001b[1;33m.\u001b[0m\u001b[0m_n_jobs\u001b[0m\u001b[1;33m)\u001b[0m\u001b[1;33m:\u001b[0m\u001b[1;33m\u001b[0m\u001b[1;33m\u001b[0m\u001b[0m\n\u001b[1;32m--> 262\u001b[1;33m             return [func(*args, **kwargs)\n\u001b[0m\u001b[0;32m    263\u001b[0m                     for func, args, kwargs in self.items]\n\u001b[0;32m    264\u001b[0m \u001b[1;33m\u001b[0m\u001b[0m\n",
      "\u001b[1;32mc:\\users\\rishik\\appdata\\local\\programs\\python\\python39\\lib\\site-packages\\sklearn\\utils\\fixes.py\u001b[0m in \u001b[0;36m__call__\u001b[1;34m(self, *args, **kwargs)\u001b[0m\n\u001b[0;32m    220\u001b[0m     \u001b[1;32mdef\u001b[0m \u001b[0m__call__\u001b[0m\u001b[1;33m(\u001b[0m\u001b[0mself\u001b[0m\u001b[1;33m,\u001b[0m \u001b[1;33m*\u001b[0m\u001b[0margs\u001b[0m\u001b[1;33m,\u001b[0m \u001b[1;33m**\u001b[0m\u001b[0mkwargs\u001b[0m\u001b[1;33m)\u001b[0m\u001b[1;33m:\u001b[0m\u001b[1;33m\u001b[0m\u001b[1;33m\u001b[0m\u001b[0m\n\u001b[0;32m    221\u001b[0m         \u001b[1;32mwith\u001b[0m \u001b[0mconfig_context\u001b[0m\u001b[1;33m(\u001b[0m\u001b[1;33m**\u001b[0m\u001b[0mself\u001b[0m\u001b[1;33m.\u001b[0m\u001b[0mconfig\u001b[0m\u001b[1;33m)\u001b[0m\u001b[1;33m:\u001b[0m\u001b[1;33m\u001b[0m\u001b[1;33m\u001b[0m\u001b[0m\n\u001b[1;32m--> 222\u001b[1;33m             \u001b[1;32mreturn\u001b[0m \u001b[0mself\u001b[0m\u001b[1;33m.\u001b[0m\u001b[0mfunction\u001b[0m\u001b[1;33m(\u001b[0m\u001b[1;33m*\u001b[0m\u001b[0margs\u001b[0m\u001b[1;33m,\u001b[0m \u001b[1;33m**\u001b[0m\u001b[0mkwargs\u001b[0m\u001b[1;33m)\u001b[0m\u001b[1;33m\u001b[0m\u001b[1;33m\u001b[0m\u001b[0m\n\u001b[0m",
      "\u001b[1;32mc:\\users\\rishik\\appdata\\local\\programs\\python\\python39\\lib\\site-packages\\sklearn\\model_selection\\_validation.py\u001b[0m in \u001b[0;36m_fit_and_score\u001b[1;34m(estimator, X, y, scorer, train, test, verbose, parameters, fit_params, return_train_score, return_parameters, return_n_test_samples, return_times, return_estimator, split_progress, candidate_progress, error_score)\u001b[0m\n\u001b[0;32m    591\u001b[0m             \u001b[0mestimator\u001b[0m\u001b[1;33m.\u001b[0m\u001b[0mfit\u001b[0m\u001b[1;33m(\u001b[0m\u001b[0mX_train\u001b[0m\u001b[1;33m,\u001b[0m \u001b[1;33m**\u001b[0m\u001b[0mfit_params\u001b[0m\u001b[1;33m)\u001b[0m\u001b[1;33m\u001b[0m\u001b[1;33m\u001b[0m\u001b[0m\n\u001b[0;32m    592\u001b[0m         \u001b[1;32melse\u001b[0m\u001b[1;33m:\u001b[0m\u001b[1;33m\u001b[0m\u001b[1;33m\u001b[0m\u001b[0m\n\u001b[1;32m--> 593\u001b[1;33m             \u001b[0mestimator\u001b[0m\u001b[1;33m.\u001b[0m\u001b[0mfit\u001b[0m\u001b[1;33m(\u001b[0m\u001b[0mX_train\u001b[0m\u001b[1;33m,\u001b[0m \u001b[0my_train\u001b[0m\u001b[1;33m,\u001b[0m \u001b[1;33m**\u001b[0m\u001b[0mfit_params\u001b[0m\u001b[1;33m)\u001b[0m\u001b[1;33m\u001b[0m\u001b[1;33m\u001b[0m\u001b[0m\n\u001b[0m\u001b[0;32m    594\u001b[0m \u001b[1;33m\u001b[0m\u001b[0m\n\u001b[0;32m    595\u001b[0m     \u001b[1;32mexcept\u001b[0m \u001b[0mException\u001b[0m \u001b[1;32mas\u001b[0m \u001b[0me\u001b[0m\u001b[1;33m:\u001b[0m\u001b[1;33m\u001b[0m\u001b[1;33m\u001b[0m\u001b[0m\n",
      "\u001b[1;32mc:\\users\\rishik\\appdata\\local\\programs\\python\\python39\\lib\\site-packages\\sklearn\\ensemble\\_gb.py\u001b[0m in \u001b[0;36mfit\u001b[1;34m(self, X, y, sample_weight, monitor)\u001b[0m\n\u001b[0;32m    502\u001b[0m \u001b[1;33m\u001b[0m\u001b[0m\n\u001b[0;32m    503\u001b[0m         \u001b[1;31m# fit the boosting stages\u001b[0m\u001b[1;33m\u001b[0m\u001b[1;33m\u001b[0m\u001b[1;33m\u001b[0m\u001b[0m\n\u001b[1;32m--> 504\u001b[1;33m         n_stages = self._fit_stages(\n\u001b[0m\u001b[0;32m    505\u001b[0m             \u001b[0mX\u001b[0m\u001b[1;33m,\u001b[0m \u001b[0my\u001b[0m\u001b[1;33m,\u001b[0m \u001b[0mraw_predictions\u001b[0m\u001b[1;33m,\u001b[0m \u001b[0msample_weight\u001b[0m\u001b[1;33m,\u001b[0m \u001b[0mself\u001b[0m\u001b[1;33m.\u001b[0m\u001b[0m_rng\u001b[0m\u001b[1;33m,\u001b[0m \u001b[0mX_val\u001b[0m\u001b[1;33m,\u001b[0m \u001b[0my_val\u001b[0m\u001b[1;33m,\u001b[0m\u001b[1;33m\u001b[0m\u001b[1;33m\u001b[0m\u001b[0m\n\u001b[0;32m    506\u001b[0m             sample_weight_val, begin_at_stage, monitor)\n",
      "\u001b[1;32mc:\\users\\rishik\\appdata\\local\\programs\\python\\python39\\lib\\site-packages\\sklearn\\ensemble\\_gb.py\u001b[0m in \u001b[0;36m_fit_stages\u001b[1;34m(self, X, y, raw_predictions, sample_weight, random_state, X_val, y_val, sample_weight_val, begin_at_stage, monitor)\u001b[0m\n\u001b[0;32m    559\u001b[0m \u001b[1;33m\u001b[0m\u001b[0m\n\u001b[0;32m    560\u001b[0m             \u001b[1;31m# fit next stage of trees\u001b[0m\u001b[1;33m\u001b[0m\u001b[1;33m\u001b[0m\u001b[1;33m\u001b[0m\u001b[0m\n\u001b[1;32m--> 561\u001b[1;33m             raw_predictions = self._fit_stage(\n\u001b[0m\u001b[0;32m    562\u001b[0m                 \u001b[0mi\u001b[0m\u001b[1;33m,\u001b[0m \u001b[0mX\u001b[0m\u001b[1;33m,\u001b[0m \u001b[0my\u001b[0m\u001b[1;33m,\u001b[0m \u001b[0mraw_predictions\u001b[0m\u001b[1;33m,\u001b[0m \u001b[0msample_weight\u001b[0m\u001b[1;33m,\u001b[0m \u001b[0msample_mask\u001b[0m\u001b[1;33m,\u001b[0m\u001b[1;33m\u001b[0m\u001b[1;33m\u001b[0m\u001b[0m\n\u001b[0;32m    563\u001b[0m                 random_state, X_csc, X_csr)\n",
      "\u001b[1;32mc:\\users\\rishik\\appdata\\local\\programs\\python\\python39\\lib\\site-packages\\sklearn\\ensemble\\_gb.py\u001b[0m in \u001b[0;36m_fit_stage\u001b[1;34m(self, i, X, y, raw_predictions, sample_weight, sample_mask, random_state, X_csc, X_csr)\u001b[0m\n\u001b[0;32m    212\u001b[0m \u001b[1;33m\u001b[0m\u001b[0m\n\u001b[0;32m    213\u001b[0m             \u001b[0mX\u001b[0m \u001b[1;33m=\u001b[0m \u001b[0mX_csr\u001b[0m \u001b[1;32mif\u001b[0m \u001b[0mX_csr\u001b[0m \u001b[1;32mis\u001b[0m \u001b[1;32mnot\u001b[0m \u001b[1;32mNone\u001b[0m \u001b[1;32melse\u001b[0m \u001b[0mX\u001b[0m\u001b[1;33m\u001b[0m\u001b[1;33m\u001b[0m\u001b[0m\n\u001b[1;32m--> 214\u001b[1;33m             tree.fit(X, residual, sample_weight=sample_weight,\n\u001b[0m\u001b[0;32m    215\u001b[0m                      check_input=False)\n\u001b[0;32m    216\u001b[0m \u001b[1;33m\u001b[0m\u001b[0m\n",
      "\u001b[1;32mc:\\users\\rishik\\appdata\\local\\programs\\python\\python39\\lib\\site-packages\\sklearn\\tree\\_classes.py\u001b[0m in \u001b[0;36mfit\u001b[1;34m(self, X, y, sample_weight, check_input, X_idx_sorted)\u001b[0m\n\u001b[0;32m   1245\u001b[0m         \"\"\"\n\u001b[0;32m   1246\u001b[0m \u001b[1;33m\u001b[0m\u001b[0m\n\u001b[1;32m-> 1247\u001b[1;33m         super().fit(\n\u001b[0m\u001b[0;32m   1248\u001b[0m             \u001b[0mX\u001b[0m\u001b[1;33m,\u001b[0m \u001b[0my\u001b[0m\u001b[1;33m,\u001b[0m\u001b[1;33m\u001b[0m\u001b[1;33m\u001b[0m\u001b[0m\n\u001b[0;32m   1249\u001b[0m             \u001b[0msample_weight\u001b[0m\u001b[1;33m=\u001b[0m\u001b[0msample_weight\u001b[0m\u001b[1;33m,\u001b[0m\u001b[1;33m\u001b[0m\u001b[1;33m\u001b[0m\u001b[0m\n",
      "\u001b[1;32mc:\\users\\rishik\\appdata\\local\\programs\\python\\python39\\lib\\site-packages\\sklearn\\tree\\_classes.py\u001b[0m in \u001b[0;36mfit\u001b[1;34m(self, X, y, sample_weight, check_input, X_idx_sorted)\u001b[0m\n\u001b[0;32m    387\u001b[0m                                            min_impurity_split)\n\u001b[0;32m    388\u001b[0m \u001b[1;33m\u001b[0m\u001b[0m\n\u001b[1;32m--> 389\u001b[1;33m         \u001b[0mbuilder\u001b[0m\u001b[1;33m.\u001b[0m\u001b[0mbuild\u001b[0m\u001b[1;33m(\u001b[0m\u001b[0mself\u001b[0m\u001b[1;33m.\u001b[0m\u001b[0mtree_\u001b[0m\u001b[1;33m,\u001b[0m \u001b[0mX\u001b[0m\u001b[1;33m,\u001b[0m \u001b[0my\u001b[0m\u001b[1;33m,\u001b[0m \u001b[0msample_weight\u001b[0m\u001b[1;33m)\u001b[0m\u001b[1;33m\u001b[0m\u001b[1;33m\u001b[0m\u001b[0m\n\u001b[0m\u001b[0;32m    390\u001b[0m \u001b[1;33m\u001b[0m\u001b[0m\n\u001b[0;32m    391\u001b[0m         \u001b[1;32mif\u001b[0m \u001b[0mself\u001b[0m\u001b[1;33m.\u001b[0m\u001b[0mn_outputs_\u001b[0m \u001b[1;33m==\u001b[0m \u001b[1;36m1\u001b[0m \u001b[1;32mand\u001b[0m \u001b[0mis_classifier\u001b[0m\u001b[1;33m(\u001b[0m\u001b[0mself\u001b[0m\u001b[1;33m)\u001b[0m\u001b[1;33m:\u001b[0m\u001b[1;33m\u001b[0m\u001b[1;33m\u001b[0m\u001b[0m\n",
      "\u001b[1;31mKeyboardInterrupt\u001b[0m: "
     ]
    }
   ],
   "source": [
    "from sklearn.ensemble import GradientBoostingClassifier\n",
    "param_grid_gbc = {'n_estimators': [10,20,50,100,200],\n",
    "              'max_depth': [10, 20]}\n",
    "print(\"Parameter grid:\\n{}\".format(param_grid_gbc))\n",
    "grid_search_gbc = GridSearchCV(GradientBoostingClassifier(), param_grid_gbc, cv=10,\n",
    "                          return_train_score=True,verbose=4)\n",
    "grid_search_gbc.fit(X_train_reduced,label_train)"
   ]
  },
  {
   "cell_type": "code",
   "execution_count": null,
   "id": "fluid-stack",
   "metadata": {},
   "outputs": [],
   "source": [
    "print(\"Best parameters: {}\".format(grid_search_gbc.best_params_))\n",
    "print(\"Best cross-validation score: {:.2f}\".format(grid_search_gbc.best_score_))\n",
    "print(\"Best estimator:\\n{}\".format(grid_search_gbc.best_estimator_))"
   ]
  },
  {
   "cell_type": "code",
   "execution_count": 59,
   "id": "sublime-reflection",
   "metadata": {},
   "outputs": [
    {
     "name": "stdout",
     "output_type": "stream",
     "text": [
      "(2000, 784)\n"
     ]
    }
   ],
   "source": [
    "print(X_test.shape)"
   ]
  },
  {
   "cell_type": "markdown",
   "id": "south-first",
   "metadata": {},
   "source": [
    "Grid Search on Adaboost (poor cross validation score so not used)"
   ]
  },
  {
   "cell_type": "code",
   "execution_count": 121,
   "id": "comic-navigation",
   "metadata": {},
   "outputs": [
    {
     "name": "stdout",
     "output_type": "stream",
     "text": [
      "Parameter grid:\n",
      "{'n_estimators': [10, 50, 100, 200, 500], 'learning_rate': [0.5, 1]}\n",
      "Fitting 10 folds for each of 10 candidates, totalling 100 fits\n",
      "[CV 1/10] END ............learning_rate=0.5, n_estimators=10; total time=  10.3s\n",
      "[CV 2/10] END ............learning_rate=0.5, n_estimators=10; total time=  10.1s\n",
      "[CV 3/10] END ............learning_rate=0.5, n_estimators=10; total time=  10.0s\n",
      "[CV 4/10] END ............learning_rate=0.5, n_estimators=10; total time=  10.0s\n",
      "[CV 5/10] END ............learning_rate=0.5, n_estimators=10; total time=  10.1s\n",
      "[CV 6/10] END ............learning_rate=0.5, n_estimators=10; total time=  10.0s\n",
      "[CV 7/10] END ............learning_rate=0.5, n_estimators=10; total time=  10.0s\n",
      "[CV 8/10] END ............learning_rate=0.5, n_estimators=10; total time=  10.0s\n",
      "[CV 9/10] END ............learning_rate=0.5, n_estimators=10; total time=  10.0s\n",
      "[CV 10/10] END ...........learning_rate=0.5, n_estimators=10; total time=  10.0s\n",
      "[CV 1/10] END ............learning_rate=0.5, n_estimators=50; total time=  50.5s\n",
      "[CV 2/10] END ............learning_rate=0.5, n_estimators=50; total time=  49.9s\n",
      "[CV 3/10] END ............learning_rate=0.5, n_estimators=50; total time=  50.2s\n",
      "[CV 4/10] END ............learning_rate=0.5, n_estimators=50; total time=  49.9s\n",
      "[CV 5/10] END ............learning_rate=0.5, n_estimators=50; total time=  49.4s\n",
      "[CV 6/10] END ............learning_rate=0.5, n_estimators=50; total time=  50.4s\n",
      "[CV 7/10] END ............learning_rate=0.5, n_estimators=50; total time=  34.6s\n",
      "[CV 8/10] END ............learning_rate=0.5, n_estimators=50; total time=  23.2s\n",
      "[CV 9/10] END ............learning_rate=0.5, n_estimators=50; total time=  23.3s\n",
      "[CV 10/10] END ...........learning_rate=0.5, n_estimators=50; total time=  23.2s\n",
      "[CV 1/10] END ...........learning_rate=0.5, n_estimators=100; total time=  46.6s\n",
      "[CV 2/10] END ...........learning_rate=0.5, n_estimators=100; total time=  47.2s\n",
      "[CV 3/10] END ...........learning_rate=0.5, n_estimators=100; total time=  46.5s\n",
      "[CV 4/10] END ...........learning_rate=0.5, n_estimators=100; total time=  46.5s\n",
      "[CV 5/10] END ...........learning_rate=0.5, n_estimators=100; total time=  46.5s\n",
      "[CV 6/10] END ...........learning_rate=0.5, n_estimators=100; total time=  46.6s\n",
      "[CV 7/10] END ...........learning_rate=0.5, n_estimators=100; total time=  46.7s\n",
      "[CV 8/10] END ...........learning_rate=0.5, n_estimators=100; total time=  46.5s\n",
      "[CV 9/10] END ...........learning_rate=0.5, n_estimators=100; total time=  46.6s\n",
      "[CV 10/10] END ..........learning_rate=0.5, n_estimators=100; total time=  46.7s\n",
      "[CV 1/10] END ...........learning_rate=0.5, n_estimators=200; total time= 1.6min\n",
      "[CV 2/10] END ...........learning_rate=0.5, n_estimators=200; total time= 1.5min\n",
      "[CV 3/10] END ...........learning_rate=0.5, n_estimators=200; total time= 1.6min\n",
      "[CV 4/10] END ...........learning_rate=0.5, n_estimators=200; total time= 1.6min\n",
      "[CV 5/10] END ...........learning_rate=0.5, n_estimators=200; total time= 1.6min\n",
      "[CV 6/10] END ...........learning_rate=0.5, n_estimators=200; total time= 1.6min\n",
      "[CV 7/10] END ...........learning_rate=0.5, n_estimators=200; total time= 1.6min\n",
      "[CV 8/10] END ...........learning_rate=0.5, n_estimators=200; total time= 1.6min\n",
      "[CV 9/10] END ...........learning_rate=0.5, n_estimators=200; total time= 1.6min\n",
      "[CV 10/10] END ..........learning_rate=0.5, n_estimators=200; total time= 1.6min\n",
      "[CV 1/10] END ...........learning_rate=0.5, n_estimators=500; total time= 3.9min\n",
      "[CV 2/10] END ...........learning_rate=0.5, n_estimators=500; total time= 3.9min\n",
      "[CV 3/10] END ...........learning_rate=0.5, n_estimators=500; total time= 3.9min\n",
      "[CV 4/10] END ...........learning_rate=0.5, n_estimators=500; total time= 3.9min\n",
      "[CV 5/10] END ...........learning_rate=0.5, n_estimators=500; total time= 3.9min\n",
      "[CV 6/10] END ...........learning_rate=0.5, n_estimators=500; total time= 3.9min\n",
      "[CV 7/10] END ...........learning_rate=0.5, n_estimators=500; total time= 3.9min\n",
      "[CV 8/10] END ...........learning_rate=0.5, n_estimators=500; total time= 3.9min\n",
      "[CV 9/10] END ...........learning_rate=0.5, n_estimators=500; total time= 3.9min\n",
      "[CV 10/10] END ..........learning_rate=0.5, n_estimators=500; total time= 3.9min\n",
      "[CV 1/10] END ..............learning_rate=1, n_estimators=10; total time=   4.6s\n",
      "[CV 2/10] END ..............learning_rate=1, n_estimators=10; total time=   4.6s\n",
      "[CV 3/10] END ..............learning_rate=1, n_estimators=10; total time=   4.6s\n",
      "[CV 4/10] END ..............learning_rate=1, n_estimators=10; total time=   4.6s\n",
      "[CV 5/10] END ..............learning_rate=1, n_estimators=10; total time=   4.6s\n",
      "[CV 6/10] END ..............learning_rate=1, n_estimators=10; total time=   4.6s\n",
      "[CV 7/10] END ..............learning_rate=1, n_estimators=10; total time=   4.6s\n",
      "[CV 8/10] END ..............learning_rate=1, n_estimators=10; total time=   4.6s\n",
      "[CV 9/10] END ..............learning_rate=1, n_estimators=10; total time=   4.6s\n",
      "[CV 10/10] END .............learning_rate=1, n_estimators=10; total time=   4.6s\n",
      "[CV 1/10] END ..............learning_rate=1, n_estimators=50; total time=  23.2s\n",
      "[CV 2/10] END ..............learning_rate=1, n_estimators=50; total time=  23.3s\n",
      "[CV 3/10] END ..............learning_rate=1, n_estimators=50; total time=  23.3s\n",
      "[CV 4/10] END ..............learning_rate=1, n_estimators=50; total time=  24.3s\n",
      "[CV 5/10] END ..............learning_rate=1, n_estimators=50; total time=  23.2s\n",
      "[CV 6/10] END ..............learning_rate=1, n_estimators=50; total time=  23.2s\n",
      "[CV 7/10] END ..............learning_rate=1, n_estimators=50; total time=  23.3s\n",
      "[CV 8/10] END ..............learning_rate=1, n_estimators=50; total time=  23.2s\n",
      "[CV 9/10] END ..............learning_rate=1, n_estimators=50; total time=  23.2s\n",
      "[CV 10/10] END .............learning_rate=1, n_estimators=50; total time=  23.2s\n",
      "[CV 1/10] END .............learning_rate=1, n_estimators=100; total time=  46.7s\n",
      "[CV 2/10] END .............learning_rate=1, n_estimators=100; total time=  46.5s\n",
      "[CV 3/10] END .............learning_rate=1, n_estimators=100; total time=  46.5s\n",
      "[CV 4/10] END .............learning_rate=1, n_estimators=100; total time=  46.7s\n",
      "[CV 5/10] END .............learning_rate=1, n_estimators=100; total time=  46.6s\n",
      "[CV 6/10] END .............learning_rate=1, n_estimators=100; total time=  46.5s\n",
      "[CV 7/10] END .............learning_rate=1, n_estimators=100; total time=  46.5s\n",
      "[CV 8/10] END .............learning_rate=1, n_estimators=100; total time=  46.5s\n",
      "[CV 9/10] END .............learning_rate=1, n_estimators=100; total time=  46.7s\n",
      "[CV 10/10] END ............learning_rate=1, n_estimators=100; total time=  46.5s\n",
      "[CV 1/10] END .............learning_rate=1, n_estimators=200; total time= 1.6min\n",
      "[CV 2/10] END .............learning_rate=1, n_estimators=200; total time= 1.6min\n",
      "[CV 3/10] END .............learning_rate=1, n_estimators=200; total time= 1.6min\n",
      "[CV 4/10] END .............learning_rate=1, n_estimators=200; total time= 1.6min\n",
      "[CV 5/10] END .............learning_rate=1, n_estimators=200; total time= 1.6min\n",
      "[CV 6/10] END .............learning_rate=1, n_estimators=200; total time= 1.6min\n",
      "[CV 7/10] END .............learning_rate=1, n_estimators=200; total time= 1.6min\n",
      "[CV 8/10] END .............learning_rate=1, n_estimators=200; total time= 1.6min\n",
      "[CV 9/10] END .............learning_rate=1, n_estimators=200; total time= 1.6min\n",
      "[CV 10/10] END ............learning_rate=1, n_estimators=200; total time= 1.6min\n",
      "[CV 1/10] END .............learning_rate=1, n_estimators=500; total time= 3.9min\n",
      "[CV 2/10] END .............learning_rate=1, n_estimators=500; total time= 3.9min\n",
      "[CV 3/10] END .............learning_rate=1, n_estimators=500; total time= 3.9min\n",
      "[CV 4/10] END .............learning_rate=1, n_estimators=500; total time= 3.9min\n",
      "[CV 5/10] END .............learning_rate=1, n_estimators=500; total time= 3.9min\n",
      "[CV 6/10] END .............learning_rate=1, n_estimators=500; total time= 3.9min\n",
      "[CV 7/10] END .............learning_rate=1, n_estimators=500; total time= 3.9min\n",
      "[CV 8/10] END .............learning_rate=1, n_estimators=500; total time= 3.9min\n",
      "[CV 9/10] END .............learning_rate=1, n_estimators=500; total time= 3.9min\n",
      "[CV 10/10] END ............learning_rate=1, n_estimators=500; total time= 3.9min\n"
     ]
    },
    {
     "data": {
      "text/plain": [
       "GridSearchCV(cv=10,\n",
       "             estimator=AdaBoostClassifier(base_estimator=DecisionTreeClassifier(max_depth=1),\n",
       "                                          random_state=42),\n",
       "             param_grid={'learning_rate': [0.5, 1],\n",
       "                         'n_estimators': [10, 50, 100, 200, 500]},\n",
       "             return_train_score=True, verbose=4)"
      ]
     },
     "execution_count": 121,
     "metadata": {},
     "output_type": "execute_result"
    }
   ],
   "source": [
    "param_grid = {'n_estimators': [10, 50, 100, 200,500],\n",
    "              'learning_rate': [0.5,1]}\n",
    "print(\"Parameter grid:\\n{}\".format(param_grid))\n",
    "grid_search_adaboost = GridSearchCV((AdaBoostClassifier(\n",
    "    DecisionTreeClassifier(max_depth=1), random_state=42)), param_grid, cv=10,\n",
    "                          return_train_score=True,verbose=4)\n",
    "grid_search_adaboost.fit(X_train_reduced,label_train)"
   ]
  },
  {
   "cell_type": "code",
   "execution_count": 123,
   "id": "fitted-controversy",
   "metadata": {},
   "outputs": [
    {
     "name": "stdout",
     "output_type": "stream",
     "text": [
      "Best parameters: {'learning_rate': 0.5, 'n_estimators': 100}\n",
      "Best cross-validation score: 0.58\n",
      "Best estimator:\n",
      "AdaBoostClassifier(base_estimator=DecisionTreeClassifier(max_depth=1),\n",
      "                   learning_rate=0.5, n_estimators=100, random_state=42)\n"
     ]
    }
   ],
   "source": [
    "print(\"Best parameters: {}\".format(grid_search_adaboost.best_params_))\n",
    "print(\"Best cross-validation score: {:.2f}\".format(grid_search_adaboost.best_score_))\n",
    "print(\"Best estimator:\\n{}\".format(grid_search_adaboost.best_estimator_))"
   ]
  },
  {
   "cell_type": "markdown",
   "id": "copyrighted-summit",
   "metadata": {},
   "source": [
    "Fitting Optimal Classifiers"
   ]
  },
  {
   "cell_type": "code",
   "execution_count": 243,
   "id": "urban-steal",
   "metadata": {},
   "outputs": [],
   "source": [
    "from sklearn.metrics import classification_report\n",
    "from sklearn.metrics import confusion_matrix\n",
    "from sklearn.metrics import accuracy_score"
   ]
  },
  {
   "cell_type": "markdown",
   "id": "scientific-murder",
   "metadata": {},
   "source": [
    "KNN Training and Evaluation"
   ]
  },
  {
   "cell_type": "code",
   "execution_count": 360,
   "id": "devoted-trick",
   "metadata": {},
   "outputs": [
    {
     "name": "stdout",
     "output_type": "stream",
     "text": [
      "Wall time: 11.9 ms\n"
     ]
    },
    {
     "data": {
      "text/plain": [
       "KNeighborsClassifier(n_neighbors=9, p=1)"
      ]
     },
     "execution_count": 360,
     "metadata": {},
     "output_type": "execute_result"
    }
   ],
   "source": [
    "%%time\n",
    "knn_model = KNeighborsClassifier(n_neighbors=9, p=1)\n",
    "knn_model.fit(X_train_reduced,label_train)"
   ]
  },
  {
   "cell_type": "code",
   "execution_count": 361,
   "id": "sitting-oregon",
   "metadata": {},
   "outputs": [
    {
     "name": "stdout",
     "output_type": "stream",
     "text": [
      "              precision    recall  f1-score   support\n",
      "\n",
      "           0       0.80      0.82      0.81       192\n",
      "           1       0.99      0.98      0.99       184\n",
      "           2       0.75      0.78      0.76       206\n",
      "           3       0.84      0.82      0.83       207\n",
      "           4       0.75      0.72      0.73       220\n",
      "           5       0.99      0.86      0.92       190\n",
      "           6       0.61      0.61      0.61       190\n",
      "           7       0.90      0.93      0.91       192\n",
      "           8       0.95      0.95      0.95       227\n",
      "           9       0.89      0.97      0.93       192\n",
      "\n",
      "    accuracy                           0.84      2000\n",
      "   macro avg       0.85      0.84      0.84      2000\n",
      "weighted avg       0.85      0.84      0.84      2000\n",
      "\n",
      "[[157   0   4   4   3   1  19   0   4   0]\n",
      " [  1 181   0   2   0   0   0   0   0   0]\n",
      " [  5   0 161   5  17   0  18   0   0   0]\n",
      " [  5   1   3 169  14   0  13   0   2   0]\n",
      " [  0   0  28  14 158   0  20   0   0   0]\n",
      " [  0   0   0   1   0 164   0  16   0   9]\n",
      " [ 29   0  18   5  17   0 116   0   5   0]\n",
      " [  0   0   0   0   0   1   0 179   0  12]\n",
      " [  0   0   2   1   2   0   5   0 216   1]\n",
      " [  0   0   0   0   0   0   0   5   0 187]]\n",
      "Accuracy Score: 0.844\n",
      "Wall time: 16.6 s\n"
     ]
    }
   ],
   "source": [
    "%%time\n",
    "predictions_knn = knn_model.predict(X_test_reduced[0:2000])\n",
    "print(classification_report(label_test,predictions_knn))\n",
    "print(confusion_matrix(label_test,predictions_knn))\n",
    "print(\"Accuracy Score: {}\".format(accuracy_score(label_test,predictions_knn)))"
   ]
  },
  {
   "cell_type": "markdown",
   "id": "first-diameter",
   "metadata": {},
   "source": [
    "Random Forest Classifier Training and Evaluation"
   ]
  },
  {
   "cell_type": "code",
   "execution_count": 358,
   "id": "moved-charm",
   "metadata": {},
   "outputs": [
    {
     "name": "stdout",
     "output_type": "stream",
     "text": [
      "Wall time: 1min 28s\n"
     ]
    },
    {
     "data": {
      "text/plain": [
       "RandomForestClassifier(max_depth=20)"
      ]
     },
     "execution_count": 358,
     "metadata": {},
     "output_type": "execute_result"
    }
   ],
   "source": [
    "%%time\n",
    "rf_model = RandomForestClassifier(max_depth=20, n_estimators=100)\n",
    "rf_model.fit(X_train_reduced,label_train)"
   ]
  },
  {
   "cell_type": "code",
   "execution_count": 359,
   "id": "likely-helena",
   "metadata": {},
   "outputs": [
    {
     "name": "stdout",
     "output_type": "stream",
     "text": [
      "              precision    recall  f1-score   support\n",
      "\n",
      "           0       0.79      0.83      0.81       192\n",
      "           1       0.99      0.98      0.99       184\n",
      "           2       0.77      0.80      0.78       206\n",
      "           3       0.86      0.83      0.85       207\n",
      "           4       0.78      0.78      0.78       220\n",
      "           5       0.91      0.92      0.91       190\n",
      "           6       0.67      0.60      0.63       190\n",
      "           7       0.92      0.90      0.91       192\n",
      "           8       0.93      0.95      0.94       227\n",
      "           9       0.90      0.96      0.93       192\n",
      "\n",
      "    accuracy                           0.85      2000\n",
      "   macro avg       0.85      0.85      0.85      2000\n",
      "weighted avg       0.85      0.85      0.85      2000\n",
      "\n",
      "[[160   0   3   4   4   1  14   0   6   0]\n",
      " [  1 180   1   2   0   0   0   0   0   0]\n",
      " [  3   0 164   3  20   0  16   0   0   0]\n",
      " [  9   1   5 172   8   0  11   0   1   0]\n",
      " [  1   0  21  12 171   1  12   0   2   0]\n",
      " [  0   0   0   0   0 175   0   9   1   5]\n",
      " [ 29   0  18   5  17   0 114   0   7   0]\n",
      " [  0   0   0   0   0   6   0 172   0  14]\n",
      " [  0   0   0   1   0   7   3   0 215   1]\n",
      " [  0   0   0   0   0   3   0   5   0 184]]\n",
      "Accuracy Score: 0.8535\n",
      "Wall time: 236 ms\n"
     ]
    }
   ],
   "source": [
    "%%time\n",
    "predictions_rf = rf_model.predict(X_test_reduced[0:2000])\n",
    "print(classification_report(label_test,predictions_rf))\n",
    "print(confusion_matrix(label_test,predictions_rf))\n",
    "print(\"Accuracy Score: {}\".format(accuracy_score(label_test,predictions_rf)))"
   ]
  },
  {
   "cell_type": "markdown",
   "id": "agreed-affect",
   "metadata": {},
   "source": [
    "Support Vector Machine Evaluation"
   ]
  },
  {
   "cell_type": "code",
   "execution_count": 356,
   "id": "combined-victoria",
   "metadata": {},
   "outputs": [
    {
     "name": "stdout",
     "output_type": "stream",
     "text": [
      "Wall time: 46.4 s\n"
     ]
    },
    {
     "data": {
      "text/plain": [
       "SVC(C=10)"
      ]
     },
     "execution_count": 356,
     "metadata": {},
     "output_type": "execute_result"
    }
   ],
   "source": [
    "%%time\n",
    "#RUN CELL\n",
    "svm_model = SVC(C=10)\n",
    "svm_model.fit(X_train_reduced,label_train)"
   ]
  },
  {
   "cell_type": "code",
   "execution_count": 357,
   "id": "incomplete-democracy",
   "metadata": {},
   "outputs": [
    {
     "name": "stdout",
     "output_type": "stream",
     "text": [
      "              precision    recall  f1-score   support\n",
      "\n",
      "           0       0.81      0.83      0.82       192\n",
      "           1       0.99      0.99      0.99       184\n",
      "           2       0.79      0.82      0.80       206\n",
      "           3       0.85      0.86      0.85       207\n",
      "           4       0.84      0.79      0.81       220\n",
      "           5       0.98      0.98      0.98       190\n",
      "           6       0.72      0.70      0.71       190\n",
      "           7       0.94      0.96      0.95       192\n",
      "           8       0.96      0.98      0.97       227\n",
      "           9       0.97      0.96      0.97       192\n",
      "\n",
      "    accuracy                           0.89      2000\n",
      "   macro avg       0.89      0.89      0.89      2000\n",
      "weighted avg       0.88      0.89      0.88      2000\n",
      "\n",
      "[[160   1   2   5   0   0  20   0   4   0]\n",
      " [  0 182   0   2   0   0   0   0   0   0]\n",
      " [  6   0 168   4  15   0  13   0   0   0]\n",
      " [  9   0   5 177  10   0   4   0   2   0]\n",
      " [  0   0  21  12 173   0  14   0   0   0]\n",
      " [  0   0   0   0   0 186   0   4   0   0]\n",
      " [ 20   1  17   8   8   0 133   0   3   0]\n",
      " [  0   0   0   0   0   3   0 184   0   5]\n",
      " [  2   0   0   0   0   0   2   1 222   0]\n",
      " [  0   0   0   0   0   0   0   7   0 185]]\n",
      "Accuracy Score: 0.885\n",
      "Wall time: 8.65 s\n"
     ]
    }
   ],
   "source": [
    "%%time\n",
    "predictions_svm = svm_model.predict(X_test_reduced[0:2000])\n",
    "print(classification_report(label_test,predictions_svm))\n",
    "print(confusion_matrix(label_test,predictions_svm))\n",
    "print(\"Accuracy Score: {}\".format(accuracy_score(label_test,predictions_svm)))"
   ]
  },
  {
   "cell_type": "markdown",
   "id": "executed-magic",
   "metadata": {},
   "source": [
    "FOR RUNNING ON TEST DATA"
   ]
  },
  {
   "cell_type": "code",
   "execution_count": 377,
   "id": "preceding-tuition",
   "metadata": {},
   "outputs": [
    {
     "name": "stdout",
     "output_type": "stream",
     "text": [
      "['images_training.h5', 'labels_training.h5']\n",
      "Wall time: 2.29 ms\n"
     ]
    }
   ],
   "source": [
    "%%time\n",
    "import h5py\n",
    "import numpy as np\n",
    "import os\n",
    "import pandas as pd\n",
    "import matplotlib.pyplot as plt\n",
    "print(os.listdir(\"./Input/train\"))"
   ]
  },
  {
   "cell_type": "code",
   "execution_count": 378,
   "id": "inclusive-linux",
   "metadata": {},
   "outputs": [
    {
     "name": "stdout",
     "output_type": "stream",
     "text": [
      "(30000, 784) (30000,)\n",
      "Wall time: 124 ms\n"
     ]
    }
   ],
   "source": [
    "%%time\n",
    "with h5py.File('./Input/train/images_training.h5','r') as H:\n",
    "    data_train = np.copy(H['datatrain'])\n",
    "with h5py.File('./Input/train/labels_training.h5','r') as H:\n",
    "    label_train = np.copy(H['labeltrain'])\n",
    "\n",
    "# using H['datatest'], H['labeltest'] for test dataset.\n",
    "print(data_train.shape,label_train.shape)"
   ]
  },
  {
   "cell_type": "code",
   "execution_count": 379,
   "id": "mysterious-bachelor",
   "metadata": {},
   "outputs": [
    {
     "name": "stdout",
     "output_type": "stream",
     "text": [
      "(5000, 784) (2000,)\n",
      "Wall time: 43.1 ms\n"
     ]
    }
   ],
   "source": [
    "%%time\n",
    "with h5py.File('./Input/test/images_testing.h5','r') as H:\n",
    "    data_test = np.copy(H['datatest'])\n",
    "with h5py.File('./Input/test/labels_testing_2000.h5','r') as H:\n",
    "    label_test = np.copy(H['labeltest'])\n",
    "print(data_test.shape,label_test.shape)"
   ]
  },
  {
   "cell_type": "code",
   "execution_count": 380,
   "id": "handy-pittsburgh",
   "metadata": {},
   "outputs": [
    {
     "name": "stdout",
     "output_type": "stream",
     "text": [
      "Wall time: 0 ns\n"
     ]
    }
   ],
   "source": [
    "%%time\n",
    "from sklearn.decomposition import PCA"
   ]
  },
  {
   "cell_type": "code",
   "execution_count": 381,
   "id": "foster-error",
   "metadata": {},
   "outputs": [
    {
     "name": "stdout",
     "output_type": "stream",
     "text": [
      "Reduced shape of training data: (30000, 100)\n",
      "Reduced shape of training data: (5000, 100)\n",
      "Wall time: 2.82 s\n"
     ]
    }
   ],
   "source": [
    "%%time\n",
    "pca=PCA(n_components=100)\n",
    "X_train_reduced = pca.fit_transform(data_train)\n",
    "print(\"Reduced shape of training data: {}\".format(str(X_train_reduced.shape)))\n",
    "X_test_reduced = pca.transform(data_test)\n",
    "print(\"Reduced shape of training data: {}\".format(str(X_test_reduced.shape)))"
   ]
  },
  {
   "cell_type": "code",
   "execution_count": 382,
   "id": "transsexual-mercury",
   "metadata": {},
   "outputs": [
    {
     "name": "stdout",
     "output_type": "stream",
     "text": [
      "Wall time: 0 ns\n"
     ]
    }
   ],
   "source": [
    "%%time\n",
    "from sklearn.svm import SVC"
   ]
  },
  {
   "cell_type": "code",
   "execution_count": 383,
   "id": "sexual-things",
   "metadata": {},
   "outputs": [
    {
     "name": "stdout",
     "output_type": "stream",
     "text": [
      "Wall time: 45.2 s\n"
     ]
    },
    {
     "data": {
      "text/plain": [
       "SVC(C=10)"
      ]
     },
     "execution_count": 383,
     "metadata": {},
     "output_type": "execute_result"
    }
   ],
   "source": [
    "%%time\n",
    "svm_model = SVC(C=10)\n",
    "svm_model.fit(X_train_reduced,label_train)"
   ]
  },
  {
   "cell_type": "code",
   "execution_count": 384,
   "id": "abroad-assault",
   "metadata": {},
   "outputs": [
    {
     "name": "stdout",
     "output_type": "stream",
     "text": [
      "Wall time: 21.6 s\n"
     ]
    }
   ],
   "source": [
    "%%time\n",
    "output = svm_model.predict(X_test_reduced)"
   ]
  },
  {
   "cell_type": "code",
   "execution_count": 385,
   "id": "related-grace",
   "metadata": {},
   "outputs": [
    {
     "name": "stdout",
     "output_type": "stream",
     "text": [
      "Wall time: 55.1 ms\n"
     ]
    }
   ],
   "source": [
    "%%time\n",
    "# assume output is the predicted labels from classifiers\n",
    "# (5000,)\n",
    "with h5py.File('Output/predicted_labels2.h5','w') as H:\n",
    "    H.create_dataset('Output',data=output)"
   ]
  }
 ],
 "metadata": {
  "kernelspec": {
   "display_name": "Python 3 (ipykernel)",
   "language": "python",
   "name": "python3"
  },
  "language_info": {
   "codemirror_mode": {
    "name": "ipython",
    "version": 3
   },
   "file_extension": ".py",
   "mimetype": "text/x-python",
   "name": "python",
   "nbconvert_exporter": "python",
   "pygments_lexer": "ipython3",
   "version": "3.8.0"
  }
 },
 "nbformat": 4,
 "nbformat_minor": 5
}
